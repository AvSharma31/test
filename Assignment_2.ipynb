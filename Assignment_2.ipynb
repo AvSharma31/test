{
 "cells": [
  {
   "cell_type": "raw",
   "id": "88546dbd-c865-403a-ba34-481cc00760dd",
   "metadata": {},
   "source": [
    "1.What are the two values of the Boolean data type? How do you write them?\n",
    "\n",
    "Two values of Boolean data type-> True and False.\n",
    "We write them as value=True, value=False."
   ]
  },
  {
   "cell_type": "raw",
   "id": "ffc72456-eaa3-4c06-9f52-c0ac1c40ffd4",
   "metadata": {},
   "source": [
    "2. What are the three different types of Boolean operators?\n",
    "\n",
    "and, or and not"
   ]
  },
  {
   "cell_type": "raw",
   "id": "268f9f75-4120-4d91-901b-2ab72e6b8c39",
   "metadata": {},
   "source": [
    "3. Make a list of each Boolean operator's truth tables (i.e. every possible combination of Boolean values for the operator and what it evaluate ).\n",
    "\n",
    "\t\t\t        Result\n",
    "True\tand\tFalse\tFalse\n",
    "True\tand\tTrue\tTrue\n",
    "False\tand\tTrue\tFalse\n",
    "False\tand\tFalse\tFalse\n",
    "\n",
    "\t\t\t        Result\n",
    "True\tor\tFalse\tTrue\n",
    "True\tor\tTrue\tTrue\n",
    "False\tor\tTrue\tTrue\n",
    "False\tor\tFalse\tFalse\n",
    "\n",
    "     \t\tResult\n",
    "not\tTrue\tFalse\n",
    "not\tFalse\tTrue"
   ]
  },
  {
   "cell_type": "raw",
   "id": "1a1b42b0-0bc0-404a-8fdf-04dfabfcfff4",
   "metadata": {},
   "source": [
    "4. What are the values of the following expressions?\n",
    "\n",
    "(5 > 4) and (3 == 5) False\n",
    "not (5 > 4) False\n",
    "(5 > 4) or (3 == 5) True\n",
    "not ((5 > 4) or (3 == 5)) False\n",
    "(True and True) and (True == False) False\n",
    "(not False) or (not True) True"
   ]
  },
  {
   "cell_type": "raw",
   "id": "7fbb6ee1-c788-4d4b-8e28-2413fcfd86d1",
   "metadata": {},
   "source": [
    "5. What are the six comparison operators?\n",
    "==\n",
    "!=\n",
    "<\n",
    ">\n",
    "<=\n",
    ">="
   ]
  },
  {
   "cell_type": "raw",
   "id": "6acd2f9e-6629-4c97-abf1-0d0073f10b67",
   "metadata": {},
   "source": [
    "6. How do you tell the difference between the equal to and assignment operators?Describe a condition and when you would use one.\n",
    "= operators assigns a value to the variable.\n",
    "== operator checks if the two values are equal or not\n",
    "For example:\n",
    "Value=3\n",
    "((3==5))"
   ]
  },
  {
   "cell_type": "raw",
   "id": "e96b4fe9-988d-4963-a9b5-8295147180bd",
   "metadata": {},
   "source": [
    "7. Identify the three blocks in this code:\n",
    "spam = 0\n",
    "if spam == 10:\n",
    "print('eggs')\n",
    "if spam > 5:\n",
    "print('bacon')\n",
    "else:\n",
    "print('ham')\n",
    "print('spam')\n",
    "print('spam')\n",
    "Identation issue, correct code:"
   ]
  },
  {
   "cell_type": "code",
   "execution_count": 1,
   "id": "f1c4e351-db26-45c5-b063-fbfebc90bc80",
   "metadata": {},
   "outputs": [
    {
     "name": "stdout",
     "output_type": "stream",
     "text": [
      "ham\n",
      "spam\n",
      "spam\n"
     ]
    }
   ],
   "source": [
    "spam = 0\n",
    "if spam == 10:\n",
    "    print('eggs')\n",
    "if spam > 5:\n",
    "    print('bacon')\n",
    "else:\n",
    "    print('ham')\n",
    "print('spam')\n",
    "print('spam')"
   ]
  },
  {
   "cell_type": "raw",
   "id": "d11f5f6c-f21e-4b44-9660-b6c569611a4f",
   "metadata": {},
   "source": [
    "8. Write code that prints Hello if 1 is stored in spam, prints Howdy if 2 is stored in spam, and prints Greetings! if anything else is stored in spam."
   ]
  },
  {
   "cell_type": "code",
   "execution_count": 2,
   "id": "1ff4a3b3-1970-4ba7-b14a-9eedbc4bfcce",
   "metadata": {},
   "outputs": [
    {
     "name": "stdin",
     "output_type": "stream",
     "text": [
      "spam:  23\n"
     ]
    },
    {
     "name": "stdout",
     "output_type": "stream",
     "text": [
      "Greetings!\n"
     ]
    }
   ],
   "source": [
    "spam=int(input(\"spam: \"))\n",
    "if spam==1:\n",
    "    print(\"Hello\")  \n",
    "elif spam==2:\n",
    "    print(\"Howdy\")\n",
    "else:\n",
    "    print(\"Greetings!\")"
   ]
  },
  {
   "cell_type": "raw",
   "id": "9a34be7f-3d89-433c-aca0-8de49b6f9da8",
   "metadata": {},
   "source": [
    "9.If your programme is stuck in an endless loop, what keys you’ll press?\n",
    "\n",
    "Ctrl+C"
   ]
  },
  {
   "cell_type": "raw",
   "id": "e97bcb5c-af3c-45da-a115-45ea22891855",
   "metadata": {},
   "source": [
    "10. How can you tell the difference between break and continue?\n",
    "\n",
    "Break will break the entire loop when the condition is satisfied.\n",
    "Continue will only stop the current iteration of the loop."
   ]
  },
  {
   "cell_type": "raw",
   "id": "51790a1a-52dc-4de1-afcf-e5687f0ad369",
   "metadata": {},
   "source": [
    "11. In a for loop, what is the difference between range(10), range(0, 10), and range(0, 10, 1)?\n",
    "\n",
    "range(10) means stopping at 10\n",
    "range(0,10) means start=0 and stop =10\n",
    "range(0,10,1) means start=0, stop=10 and step=1"
   ]
  },
  {
   "cell_type": "raw",
   "id": "06fe4fab-8264-413d-9b8f-bc049154852c",
   "metadata": {},
   "source": [
    "12. Write a short program that prints the numbers 1 to 10 using a for loop. Then write an equivalent program that prints the numbers 1 to 10 using a while loop."
   ]
  },
  {
   "cell_type": "code",
   "execution_count": 3,
   "id": "83de1503-ee4f-41be-816f-04111e74dd28",
   "metadata": {},
   "outputs": [
    {
     "name": "stdout",
     "output_type": "stream",
     "text": [
      "0\n",
      "1\n",
      "2\n",
      "3\n",
      "4\n",
      "5\n",
      "6\n",
      "7\n",
      "8\n",
      "9\n",
      "0\n",
      "1\n",
      "2\n",
      "3\n",
      "4\n",
      "5\n",
      "6\n",
      "7\n",
      "8\n",
      "9\n"
     ]
    }
   ],
   "source": [
    "for i in range(0,10):\n",
    "    print(i)\n",
    "\n",
    "i=0\n",
    "while i<10:\n",
    "    print(i)\n",
    "    i+=1"
   ]
  },
  {
   "cell_type": "raw",
   "id": "6465868d-6263-4986-9055-2c3f8a23e8dc",
   "metadata": {},
   "source": [
    "13. If you had a function named bacon() inside a module named spam, how would you call it after importing spam?\n",
    "\n",
    "from spam import bacon"
   ]
  }
 ],
 "metadata": {
  "kernelspec": {
   "display_name": "Python 3 (ipykernel)",
   "language": "python",
   "name": "python3"
  },
  "language_info": {
   "codemirror_mode": {
    "name": "ipython",
    "version": 3
   },
   "file_extension": ".py",
   "mimetype": "text/x-python",
   "name": "python",
   "nbconvert_exporter": "python",
   "pygments_lexer": "ipython3",
   "version": "3.10.6"
  }
 },
 "nbformat": 4,
 "nbformat_minor": 5
}
