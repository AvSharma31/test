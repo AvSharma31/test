{
 "cells": [
  {
   "cell_type": "markdown",
   "id": "94b86c1d-dc26-4fc5-bf14-89b7db04cbbf",
   "metadata": {},
   "source": [
    "1.What are the two values of the Boolean data type? How do you write them?\n",
    "\n",
    "Two values of Boolean data type-> True and False.\n",
    "We write them as value=True, value=False."
   ]
  },
  {
   "cell_type": "markdown",
   "id": "b467a188-0e9d-459d-8a4d-0a0aeaeccfb0",
   "metadata": {},
   "source": [
    "2. What are the three different types of Boolean operators?\n",
    "\n",
    "and, or and not"
   ]
  },
  {
   "cell_type": "markdown",
   "id": "6c860587-c9d3-465c-aee9-96a7609be891",
   "metadata": {},
   "source": [
    "3. Make a list of each Boolean operator's truth tables (i.e. every possible combination of Boolean values for the operator and what it evaluate ).\n",
    "\n",
    "True and False = False,\n",
    "True and True = True,\n",
    "False and True = False,\n",
    "False and False = False,\n",
    "\n",
    "True or\tFalse = True,\n",
    "True or\tTrue = True,\n",
    "False or True = True,\n",
    "False or False = False,\n",
    "\n",
    "not\tTrue = False,\n",
    "not\tFalse = True,"
   ]
  },
  {
   "cell_type": "markdown",
   "id": "be015fb1-999a-4930-868a-56ed846d64cb",
   "metadata": {},
   "source": [
    "4. What are the values of the following expressions?\n",
    "\n",
    "(5 > 4) and (3 == 5) False ,\n",
    "not (5 > 4) False ,\n",
    "(5 > 4) or (3 == 5) True ,\n",
    "not ((5 > 4) or (3 == 5)) False ,\n",
    "(True and True) and (True == False) False ,\n",
    "(not False) or (not True) True"
   ]
  },
  {
   "cell_type": "markdown",
   "id": "cd09cbb9-3955-42d1-897f-d2a349322ea5",
   "metadata": {},
   "source": [
    "5. What are the six comparison operators?\n",
    "\n",
    "== , \n",
    "!= , \n",
    "< , \n",
    "> , \n",
    "<= , \n",
    ">= , "
   ]
  },
  {
   "cell_type": "markdown",
   "id": "b3c50a22-c29d-47d1-8af5-f0765c27ebea",
   "metadata": {},
   "source": [
    "6. How do you tell the difference between the equal to and assignment operators?Describe a condition and when you would use one.\n",
    "\n",
    "Ans. = operators assigns a value to the variable.\n",
    "== operator checks if the two values are equal or not.\n",
    "For example:\n",
    "Value=3\n",
    "((3==5))"
   ]
  },
  {
   "cell_type": "markdown",
   "id": "130e54e6-c94c-4ca7-803c-5e7d12828c68",
   "metadata": {},
   "source": [
    "7. Identify the three blocks in this code:\n",
    "spam = 0\n",
    "if spam == 10:\n",
    "print('eggs')\n",
    "if spam > 5:\n",
    "print('bacon')\n",
    "else:\n",
    "print('ham')\n",
    "print('spam')\n",
    "print('spam')\n",
    "Identation issue, correct code:"
   ]
  },
  {
   "cell_type": "code",
   "execution_count": 1,
   "id": "f1c4e351-db26-45c5-b063-fbfebc90bc80",
   "metadata": {},
   "outputs": [
    {
     "name": "stdout",
     "output_type": "stream",
     "text": [
      "ham\n",
      "spam\n",
      "spam\n"
     ]
    }
   ],
   "source": [
    "spam = 0\n",
    "if spam == 10:\n",
    "    print('eggs')\n",
    "if spam > 5:\n",
    "    print('bacon')\n",
    "else:\n",
    "    print('ham')\n",
    "print('spam')\n",
    "print('spam')"
   ]
  },
  {
   "cell_type": "markdown",
   "id": "6e40fa49-6f53-44a8-b169-8606674c477c",
   "metadata": {},
   "source": [
    "8. Write code that prints Hello if 1 is stored in spam, prints Howdy if 2 is stored in spam, and prints Greetings! if anything else is stored in spam."
   ]
  },
  {
   "cell_type": "code",
   "execution_count": 2,
   "id": "1ff4a3b3-1970-4ba7-b14a-9eedbc4bfcce",
   "metadata": {},
   "outputs": [
    {
     "name": "stdin",
     "output_type": "stream",
     "text": [
      "spam:  23\n"
     ]
    },
    {
     "name": "stdout",
     "output_type": "stream",
     "text": [
      "Greetings!\n"
     ]
    }
   ],
   "source": [
    "spam=int(input(\"spam: \"))\n",
    "if spam==1:\n",
    "    print(\"Hello\")  \n",
    "elif spam==2:\n",
    "    print(\"Howdy\")\n",
    "else:\n",
    "    print(\"Greetings!\")"
   ]
  },
  {
   "cell_type": "markdown",
   "id": "8b93e118-321f-4977-a82b-691bec104007",
   "metadata": {},
   "source": [
    "9.If your programme is stuck in an endless loop, what keys you’ll press?\n",
    "\n",
    "Ctrl+C"
   ]
  },
  {
   "cell_type": "markdown",
   "id": "9860b58e-0db6-433b-9028-cd9816d5ff34",
   "metadata": {},
   "source": [
    "10. How can you tell the difference between break and continue?\n",
    "\n",
    "Break will break the entire loop when the condition is satisfied.\n",
    "Continue will only stop the current iteration of the loop."
   ]
  },
  {
   "cell_type": "markdown",
   "id": "3d122468-ae96-4c3e-8297-ed20956d9ff6",
   "metadata": {},
   "source": [
    "11. In a for loop, what is the difference between range(10), range(0, 10), and range(0, 10, 1)?\n",
    "\n",
    "range(10) means stopping at 10 , \n",
    "range(0,10) means start=0 and stop =10 , \n",
    "range(0,10,1) means start=0, stop=10 and step=1"
   ]
  },
  {
   "cell_type": "markdown",
   "id": "fe65cf14-9aff-4c89-adf9-a4b350b63e85",
   "metadata": {},
   "source": [
    "12. Write a short program that prints the numbers 1 to 10 using a for loop. Then write an equivalent program that prints the numbers 1 to 10 using a while loop."
   ]
  },
  {
   "cell_type": "code",
   "execution_count": 3,
   "id": "83de1503-ee4f-41be-816f-04111e74dd28",
   "metadata": {},
   "outputs": [
    {
     "name": "stdout",
     "output_type": "stream",
     "text": [
      "0\n",
      "1\n",
      "2\n",
      "3\n",
      "4\n",
      "5\n",
      "6\n",
      "7\n",
      "8\n",
      "9\n",
      "0\n",
      "1\n",
      "2\n",
      "3\n",
      "4\n",
      "5\n",
      "6\n",
      "7\n",
      "8\n",
      "9\n"
     ]
    }
   ],
   "source": [
    "for i in range(0,10):\n",
    "    print(i)\n",
    "\n",
    "i=0\n",
    "while i<10:\n",
    "    print(i)\n",
    "    i+=1"
   ]
  },
  {
   "cell_type": "markdown",
   "id": "dbf6932c-0935-44cb-bb74-8b2c1552b9c9",
   "metadata": {},
   "source": [
    "13. If you had a function named bacon() inside a module named spam, how would you call it after importing spam?\n",
    "\n",
    "from spam import bacon"
   ]
  },
  {
   "cell_type": "code",
   "execution_count": null,
   "id": "ce8f0b5f-0097-4016-bd7b-c3ca814e8bc6",
   "metadata": {},
   "outputs": [],
   "source": []
  }
 ],
 "metadata": {
  "kernelspec": {
   "display_name": "Python 3 (ipykernel)",
   "language": "python",
   "name": "python3"
  },
  "language_info": {
   "codemirror_mode": {
    "name": "ipython",
    "version": 3
   },
   "file_extension": ".py",
   "mimetype": "text/x-python",
   "name": "python",
   "nbconvert_exporter": "python",
   "pygments_lexer": "ipython3",
   "version": "3.10.6"
  }
 },
 "nbformat": 4,
 "nbformat_minor": 5
}
