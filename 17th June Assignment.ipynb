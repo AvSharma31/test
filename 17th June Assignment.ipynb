{
 "cells": [
  {
   "cell_type": "markdown",
   "id": "9791f929-99c4-4857-84c0-a95fbab850f9",
   "metadata": {},
   "source": [
    "1. What is the role of try and exception block?"
   ]
  },
  {
   "cell_type": "markdown",
   "id": "d0b8ced3-f76b-4651-bc16-a08f796d7fdd",
   "metadata": {},
   "source": [
    "try block usually contains code that may raise an exception. Whenever an exception occurs it is handled by except block. Except block defines actions that can be performed in case exception occurs."
   ]
  },
  {
   "cell_type": "markdown",
   "id": "3fbea15e-68b1-4787-a601-c7c9b75d3831",
   "metadata": {},
   "source": [
    "2. What is the syntax for a basic try-except block?"
   ]
  },
  {
   "cell_type": "code",
   "execution_count": 1,
   "id": "e636f619-15c2-405a-81e8-dfe77ec7a795",
   "metadata": {},
   "outputs": [
    {
     "name": "stdout",
     "output_type": "stream",
     "text": [
      "x is not defined\n"
     ]
    }
   ],
   "source": [
    "try:\n",
    "    print(x)\n",
    "except:\n",
    "    print(\"x is not defined\")"
   ]
  },
  {
   "cell_type": "markdown",
   "id": "a18b7e50-3219-4cb3-a0f3-c4b17938ab5d",
   "metadata": {},
   "source": [
    "3. What happens if an exception occurs inside a try block and there is no matching\n",
    "except block?"
   ]
  },
  {
   "cell_type": "markdown",
   "id": "4009b52c-7b69-45f9-888a-86480c8a86b7",
   "metadata": {},
   "source": [
    "if there is no matching exception in the except block then it will go to the bar except block. For example:"
   ]
  },
  {
   "cell_type": "code",
   "execution_count": 12,
   "id": "6e93415e-4cec-463f-abc3-3d076a944a9a",
   "metadata": {},
   "outputs": [
    {
     "name": "stdin",
     "output_type": "stream",
     "text": [
      "Enter no 1:  10\n",
      "Enter no 2:  0\n"
     ]
    },
    {
     "name": "stdout",
     "output_type": "stream",
     "text": [
      "Exception occured\n"
     ]
    }
   ],
   "source": [
    "try:\n",
    "    x=int(input(\"Enter no 1: \"))\n",
    "    y=int(input(\"Enter no 2: \"))\n",
    "    print(x/y)\n",
    "except TypeError:\n",
    "    print(\"Type error\")\n",
    "except ValueError:\n",
    "    print(\"Value error\")\n",
    "except:\n",
    "    print(\"Exception occured\")"
   ]
  },
  {
   "cell_type": "markdown",
   "id": "021e4101-7ea1-4793-b3a2-23ac65bbb85d",
   "metadata": {},
   "source": [
    "4. What is the difference between using a bare except block and specifying a specific\n",
    "exception type?"
   ]
  },
  {
   "cell_type": "markdown",
   "id": "4122f628-c6fc-49fa-bf7a-295308871f43",
   "metadata": {},
   "source": [
    "bare except block handles in case of all type of exceptions and specific exception is when we know that the code can return a specific type of exception like ZeroDivisionError, ValueError, etc"
   ]
  },
  {
   "cell_type": "markdown",
   "id": "ea530724-5ad7-4bf5-ae2e-470ac9b45f8f",
   "metadata": {},
   "source": [
    "5. Can you have nested try-except blocks in Python? If yes, then give an example."
   ]
  },
  {
   "cell_type": "markdown",
   "id": "eb454249-25dd-4b6f-a7e6-1afbfad4d717",
   "metadata": {},
   "source": [
    "yes. we can have nested try except blocks. For example:"
   ]
  },
  {
   "cell_type": "code",
   "execution_count": 23,
   "id": "2759707a-a4ba-4a57-80fd-15a3e6c6d039",
   "metadata": {},
   "outputs": [
    {
     "name": "stdout",
     "output_type": "stream",
     "text": [
      "outer try block\n",
      "Inner try block\n",
      "Inner finally block\n",
      "outer finally block\n"
     ]
    }
   ],
   "source": [
    "try:\n",
    "    print(\"outer try block\")\n",
    "    try:\n",
    "        print(\"Inner try block\")\n",
    "    except ZeroDivisionError:\n",
    "        print(\"Inner except block\")\n",
    "    finally:\n",
    "        print(\"Inner finally block\")\n",
    "except:\n",
    "    print(\"outer except block\")\n",
    "finally:\n",
    "    print(\"outer finally block\")"
   ]
  },
  {
   "cell_type": "markdown",
   "id": "825cfcad-fd19-42a2-884d-33ad9905e2e9",
   "metadata": {},
   "source": [
    "6. Can we use multiple exception blocks, if yes then give an example."
   ]
  },
  {
   "cell_type": "code",
   "execution_count": 13,
   "id": "845d4a37-5c84-42cd-8651-c393d929c647",
   "metadata": {},
   "outputs": [
    {
     "name": "stdin",
     "output_type": "stream",
     "text": [
      "Enter number 1: 10\n",
      "Enter number 2: 0\n"
     ]
    },
    {
     "name": "stdout",
     "output_type": "stream",
     "text": [
      "You cannot divide by zero\n"
     ]
    }
   ],
   "source": [
    "try:\n",
    "    a = int(input(\"Enter number 1:\"))\n",
    "    b = int(input(\"Enter number 2:\"))\n",
    "    print(a/b)\n",
    "    \n",
    "except ZeroDivisionError:\n",
    "    print(\"You cannot divide by zero\")\n",
    "except ValueError:\n",
    "    print(\"Number is invalid\")"
   ]
  },
  {
   "cell_type": "markdown",
   "id": "18146cae-232c-47a1-8d32-d58a9fda737d",
   "metadata": {},
   "source": [
    "7. Write the reason due to which following errors are raised:\n",
    "a. EOFError\n",
    "b. FloatingPointError\n",
    "c. IndexError\n",
    "d. MemoryError\n",
    "e. OverflowError\n",
    "f. TabError\n",
    "g. ValueError"
   ]
  },
  {
   "cell_type": "markdown",
   "id": "770d44b5-d6bb-4126-99c9-2ee590ac45b5",
   "metadata": {},
   "source": [
    "a. EOFError occurs when input() function hits the end of file condition."
   ]
  },
  {
   "cell_type": "markdown",
   "id": "7d285667-d2f5-4a5a-80c1-312815fe2f9a",
   "metadata": {},
   "source": [
    "b. FloatingPointError occurs when floating point operation fails."
   ]
  },
  {
   "cell_type": "markdown",
   "id": "161c9fa0-72f8-4441-b944-38156ecbf9fb",
   "metadata": {},
   "source": [
    "c. IndexError occurs when sequence subscript is out of range"
   ]
  },
  {
   "cell_type": "markdown",
   "id": "87dfce90-2588-41dd-a32b-cada19c91bb7",
   "metadata": {},
   "source": [
    "d. MemoryError occurs when operation runs out of memory."
   ]
  },
  {
   "cell_type": "markdown",
   "id": "6bc39eb1-ec2b-4789-a12f-7ace6cb10916",
   "metadata": {},
   "source": [
    "e. OverflowError occurs when the result of an arithmetic operation is too large to be expressed by the normal number format."
   ]
  },
  {
   "cell_type": "markdown",
   "id": "e5c8500a-68e6-457c-824f-efff1a0b8f2e",
   "metadata": {},
   "source": [
    "f. TabError occurs when inconsistent use of tabs and spaces in indentation. "
   ]
  },
  {
   "cell_type": "markdown",
   "id": "8e4d37df-94da-4973-b6b8-8d67c054e9db",
   "metadata": {},
   "source": [
    "g. ValueError occurs when existing operation receives an argument that has the right type but an wrong value"
   ]
  },
  {
   "cell_type": "markdown",
   "id": "f43a3103-15b1-46e6-a405-dc1d6c595003",
   "metadata": {},
   "source": [
    "8. Write code for the following given scenario and add try-exception block to it."
   ]
  },
  {
   "cell_type": "markdown",
   "id": "56786c81-2626-45a7-be41-08c8d8f02b43",
   "metadata": {},
   "source": [
    "a. Program to divide two numbers"
   ]
  },
  {
   "cell_type": "code",
   "execution_count": 3,
   "id": "afa3a8c1-09c9-430b-bab1-5ba0e82497f8",
   "metadata": {},
   "outputs": [
    {
     "name": "stdin",
     "output_type": "stream",
     "text": [
      "Enter num 1: 1\n",
      "Enter num 2:  \n"
     ]
    },
    {
     "name": "stdout",
     "output_type": "stream",
     "text": [
      "Invalid value\n"
     ]
    }
   ],
   "source": [
    "try:\n",
    "    a = int(input(\"Enter num 1:\"))\n",
    "    b = int(input(\"Enter num 2:\"))\n",
    "    result = a/b\n",
    "    print(f\"Result: {result}\")\n",
    "except ZeroDivisionError:\n",
    "    print(\"Cannot Divide by zero\")\n",
    "except ValueError:\n",
    "    print(\"Invalid value\")"
   ]
  },
  {
   "cell_type": "markdown",
   "id": "c0fcad3d-88de-4a7e-ac34-52c0b7ec0289",
   "metadata": {},
   "source": [
    "b. Program to convert a string to an integer"
   ]
  },
  {
   "cell_type": "code",
   "execution_count": 11,
   "id": "158859d3-0a9d-4771-9846-899f4e41ae43",
   "metadata": {},
   "outputs": [
    {
     "name": "stdin",
     "output_type": "stream",
     "text": [
      "Enter string: hello\n"
     ]
    },
    {
     "name": "stdout",
     "output_type": "stream",
     "text": [
      "Value Error\n"
     ]
    }
   ],
   "source": [
    "try:\n",
    "    a = int(input(\"Enter string:\"))\n",
    "    print(f\"Result: {a}\")\n",
    "except ValueError:\n",
    "    print(\"Value Error\")"
   ]
  },
  {
   "cell_type": "markdown",
   "id": "711e7e00-ca12-4f0d-b52e-316678d36529",
   "metadata": {},
   "source": [
    "c. Program to access an element in a list"
   ]
  },
  {
   "cell_type": "code",
   "execution_count": 22,
   "id": "aea1588d-12b7-4dc2-9f95-73c8d0373bdc",
   "metadata": {},
   "outputs": [
    {
     "name": "stdin",
     "output_type": "stream",
     "text": [
      "Enter the list:  1 2\n"
     ]
    },
    {
     "name": "stdout",
     "output_type": "stream",
     "text": [
      "list index out of range\n"
     ]
    }
   ],
   "source": [
    "try:\n",
    "    a = list(input(\"Enter the list: \"))\n",
    "    print(a[3])\n",
    "except IndexError:\n",
    "    print(\"list index out of range\")"
   ]
  },
  {
   "cell_type": "markdown",
   "id": "e003b855-eede-4b6e-b664-23f8aa361e5b",
   "metadata": {},
   "source": [
    "d. Program to handle a specific exception"
   ]
  },
  {
   "cell_type": "code",
   "execution_count": null,
   "id": "c5a055f3-f494-43ad-af8c-10b5673a7401",
   "metadata": {},
   "outputs": [],
   "source": [
    "try:\n",
    "    a = int(input(\"Enter string:\"))\n",
    "    print(f\"Result: {a}\")\n",
    "except ValueError:\n",
    "    print(\"Value Error\")"
   ]
  },
  {
   "cell_type": "markdown",
   "id": "3a640945-7d58-4a0a-b43b-e58fddb33e40",
   "metadata": {},
   "source": [
    "e. Program to handle any exception"
   ]
  },
  {
   "cell_type": "code",
   "execution_count": 13,
   "id": "11d6c87b-3a5a-4a5d-904e-d18d3fbcdfe8",
   "metadata": {},
   "outputs": [
    {
     "name": "stdin",
     "output_type": "stream",
     "text": [
      "Enter num 1: 0\n",
      "Enter num 2: 0\n"
     ]
    },
    {
     "name": "stdout",
     "output_type": "stream",
     "text": [
      "Invalid value\n"
     ]
    }
   ],
   "source": [
    "try:\n",
    "    a = int(input(\"Enter num 1:\"))\n",
    "    b = int(input(\"Enter num 2:\"))\n",
    "    result = a/b\n",
    "    print(f\"Result: {result}\")\n",
    "except:\n",
    "    print(\"Invalid value\")"
   ]
  }
 ],
 "metadata": {
  "kernelspec": {
   "display_name": "Python 3 (ipykernel)",
   "language": "python",
   "name": "python3"
  },
  "language_info": {
   "codemirror_mode": {
    "name": "ipython",
    "version": 3
   },
   "file_extension": ".py",
   "mimetype": "text/x-python",
   "name": "python",
   "nbconvert_exporter": "python",
   "pygments_lexer": "ipython3",
   "version": "3.10.6"
  }
 },
 "nbformat": 4,
 "nbformat_minor": 5
}
