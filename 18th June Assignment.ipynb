{
 "cells": [
  {
   "cell_type": "markdown",
   "id": "882097ad-6a01-46e2-aa95-582538dcd56d",
   "metadata": {},
   "source": [
    "1. What is the role of the 'else' block in a try-except statement? Provide an example\n",
    "scenario where it would be useful."
   ]
  },
  {
   "cell_type": "markdown",
   "id": "e406385a-07ed-4a45-b063-81cc41db7f9a",
   "metadata": {},
   "source": [
    "else block used to run code without errors. For example:"
   ]
  },
  {
   "cell_type": "code",
   "execution_count": 1,
   "id": "81c5088b-77c9-43b4-abcb-c26314bbf0ed",
   "metadata": {},
   "outputs": [
    {
     "name": "stdout",
     "output_type": "stream",
     "text": [
      "Hello world\n",
      "No Exception\n"
     ]
    }
   ],
   "source": [
    "try:\n",
    "    print(\"Hello world\")\n",
    "except:\n",
    "    print(\"Exception\")\n",
    "else:\n",
    "    print(\"No Exception\")\n",
    "    "
   ]
  },
  {
   "cell_type": "markdown",
   "id": "d23973fd-595b-4695-a91f-fe0e9425585e",
   "metadata": {},
   "source": [
    "2. Can a try-except block be nested inside another try-except block? Explain with an\n",
    "example."
   ]
  },
  {
   "cell_type": "markdown",
   "id": "1f8044e2-9833-46f1-a65c-f6a271877dc8",
   "metadata": {},
   "source": [
    "yes"
   ]
  },
  {
   "cell_type": "code",
   "execution_count": 2,
   "id": "867e57ba-5617-41c1-8d13-e386aa2b1654",
   "metadata": {},
   "outputs": [
    {
     "name": "stdout",
     "output_type": "stream",
     "text": [
      "outer try block\n",
      "Inner try block\n"
     ]
    }
   ],
   "source": [
    "try:\n",
    "    print(\"outer try block\")\n",
    "    \n",
    "    try:\n",
    "        print(\"Inner try block\")\n",
    "    except:\n",
    "        print(\"Inner except block\")\n",
    "except:\n",
    "    print(\"Outer except block\")\n",
    "    "
   ]
  },
  {
   "cell_type": "markdown",
   "id": "10d6a484-fa34-4185-ac81-9e595f1caf2b",
   "metadata": {},
   "source": [
    "3. How can you create a custom exception class in Python? Provide an example that\n",
    "demonstrates its usage."
   ]
  },
  {
   "cell_type": "code",
   "execution_count": 6,
   "id": "426e6fed-d095-433a-b768-1b9842a0759b",
   "metadata": {},
   "outputs": [
    {
     "name": "stdin",
     "output_type": "stream",
     "text": [
      "Enter age:  10\n"
     ]
    },
    {
     "name": "stdout",
     "output_type": "stream",
     "text": [
      "You cannot vote\n"
     ]
    }
   ],
   "source": [
    "class WrongAgeException(Exception):\n",
    "    \"Age should be more than 18 years\"\n",
    "    pass\n",
    "\n",
    "try:\n",
    "    age = int(input(\"Enter age: \"))\n",
    "    if age<18:\n",
    "        raise WrongAgeException\n",
    "    else:\n",
    "        print(\"You can vote\")\n",
    "except WrongAgeException:\n",
    "    print(\"You cannot vote\")"
   ]
  },
  {
   "cell_type": "markdown",
   "id": "11d07265-0006-4ff1-8f6c-b8e3493f8363",
   "metadata": {},
   "source": [
    "4. What are some common exceptions that are built-in to Python?"
   ]
  },
  {
   "cell_type": "markdown",
   "id": "2edc62b1-8409-4912-9172-20ebc75a6646",
   "metadata": {},
   "source": [
    "ZeroDivisionError, TypeError, ValueError, IndexError, KeyError are some built in exceptions."
   ]
  },
  {
   "cell_type": "markdown",
   "id": "ec245cce-9382-4a98-a0d6-3bc1eeff46f5",
   "metadata": {},
   "source": [
    "5. What is logging in Python, and why is it important in software development?"
   ]
  },
  {
   "cell_type": "markdown",
   "id": "9192dca8-fdc9-4bd8-8a7f-94cae6963c8b",
   "metadata": {},
   "source": [
    "logging is a way for monitoring events that occur in software development. Without logging it will not be possible to find root cause of issue in programme."
   ]
  },
  {
   "cell_type": "markdown",
   "id": "127b4efa-ed60-455b-80d2-6bd66590f86e",
   "metadata": {},
   "source": [
    "6. Explain the purpose of log levels in Python logging and provide examples of when\n",
    "each log level would be appropriate."
   ]
  },
  {
   "cell_type": "markdown",
   "id": "f888a1ed-4e14-4dbf-9378-fb0bd43650d7",
   "metadata": {},
   "source": [
    "Different types of log levels are as follows: debug used for identifying the problem in the program, info used to give information of the action that is getting performed, warning used for those cases where error may occur in the future, error, critical- serious error which can lead to the program stop working."
   ]
  },
  {
   "cell_type": "markdown",
   "id": "3431eefd-b175-4c60-b590-189cbdd66d6b",
   "metadata": {},
   "source": [
    "7. What are log formatters in Python logging, and how can you customise the log\n",
    "message format using formatters?"
   ]
  },
  {
   "cell_type": "markdown",
   "id": "26f07e63-455c-49f0-b184-842515867cac",
   "metadata": {},
   "source": [
    "log formatters give extra information for understanding the issues in a program so that issues can be easily identified."
   ]
  },
  {
   "cell_type": "code",
   "execution_count": 8,
   "id": "539d02e9-2095-4872-915e-b49c131fed49",
   "metadata": {},
   "outputs": [],
   "source": [
    "import logging\n",
    "import os\n",
    "\n",
    "dir_path=\"/home/jovyan/work\"\n",
    "log_file = 'system.txt'\n",
    "full_path = os.path.join(dir_path, log_file)\n",
    "\n",
    "os.makedirs(dir_path, exist_ok=True)\n",
    "\n",
    "logger = logging.getLogger()\n",
    "logger.setLevel(logging.CRITICAL)\n",
    "\n",
    "# full_path is where log file will be save\n",
    "handler = logging.FileHandler(full_path)\n",
    "handler.setFormatter(logging.Formatter('%(asctime)s:%(levelname)s:%(message)s'))\n",
    "logger.addHandler(handler)\n",
    "\n",
    "\n",
    "def LetUsCheckSystem(sys):\n",
    "    if sys != 'OK':\n",
    "        logging.critical('System failure: %s', sys)\n",
    "\n",
    "LetUsCheckSystem('You need to handle the issue now')\n",
    "handler.close()"
   ]
  },
  {
   "cell_type": "markdown",
   "id": "615d0cd7-1b73-436d-918a-7ca895107b1a",
   "metadata": {},
   "source": [
    "8. How can you set up logging to capture log messages from multiple modules or\n",
    "classes in a Python application?"
   ]
  },
  {
   "cell_type": "code",
   "execution_count": 1,
   "id": "349c5f48-4213-41b2-9ff9-352defc9839d",
   "metadata": {},
   "outputs": [
    {
     "name": "stderr",
     "output_type": "stream",
     "text": [
      "INFO:root:User Admin User logged in\n"
     ]
    }
   ],
   "source": [
    "import logging\n",
    "\n",
    "logging.basicConfig(level=logging.DEBUG)\n",
    "def login(user):\n",
    "    logging.info('User %s logged in', user)\n",
    "\n",
    "login('Admin User')"
   ]
  },
  {
   "cell_type": "markdown",
   "id": "1596ea86-d1f1-4c4c-bb68-c707b42febab",
   "metadata": {},
   "source": [
    "9. What is the difference between the logging and print statements in Python? When\n",
    "should you use logging over print statements in a real-world application?"
   ]
  },
  {
   "cell_type": "markdown",
   "id": "ca20b462-ef70-49d7-9f75-cee3519255a2",
   "metadata": {},
   "source": [
    "print statements usually prints but for complex programming it can cause an issue whereas in case of logging we can have all types of logging which will help in identifying the issues in program faster. logging can be used in case of complex programs."
   ]
  },
  {
   "cell_type": "markdown",
   "id": "a5d1d118-0bc2-46bc-a18c-90c48ebeb702",
   "metadata": {},
   "source": [
    "10. Write a Python program that logs a message to a file named \"app.log\" with the\n",
    "following requirements:\n",
    "● The log message should be \"Hello, World!\"\n",
    "● The log level should be set to \"INFO.\"\n",
    "● The log file should append new log entries without overwriting previous ones."
   ]
  },
  {
   "cell_type": "code",
   "execution_count": 11,
   "id": "8ca15fb9-08a4-46db-bb95-440406cea852",
   "metadata": {},
   "outputs": [],
   "source": [
    "import logging\n",
    "import os\n",
    "\n",
    "dir_path=\"/home/jovyan/work\"\n",
    "log_file = 'app.log'\n",
    "full_path = os.path.join(dir_path, log_file)\n",
    "\n",
    "os.makedirs(dir_path, exist_ok=True)\n",
    "\n",
    "logger = logging.getLogger()\n",
    "logger.setLevel(logging.INFO)\n",
    "\n",
    "# full_path is where log file will be save\n",
    "handler = logging.FileHandler(full_path)\n",
    "handler.setFormatter(logging.Formatter('%(message)s:%(levelname)s'))\n",
    "logger.addHandler(handler)\n",
    "\n",
    "\n",
    "def logMessage():\n",
    "    logging.info('Hello, World!')\n",
    "\n",
    "logMessage()\n",
    "handler.close()"
   ]
  },
  {
   "cell_type": "markdown",
   "id": "49208305-7162-434c-a34d-d82094b609f3",
   "metadata": {},
   "source": [
    "11. Create a Python program that logs an error message to the console and a file named\n",
    "\"errors.log\" if an exception occurs during the program's execution. The error\n",
    "message should include the exception type and a timestamp."
   ]
  },
  {
   "cell_type": "code",
   "execution_count": 4,
   "id": "ad0df06f-f7c8-4b13-833d-cb5b33ae6895",
   "metadata": {},
   "outputs": [
    {
     "name": "stderr",
     "output_type": "stream",
     "text": [
      "ERROR:root:Cannot Divide by Zero\n"
     ]
    }
   ],
   "source": [
    "import logging\n",
    "import os\n",
    "\n",
    "dir_path=\"/home/jovyan/work\"\n",
    "log_file = 'error.log'\n",
    "full_path = os.path.join(dir_path, log_file)\n",
    "\n",
    "os.makedirs(dir_path, exist_ok=True)\n",
    "\n",
    "logger = logging.getLogger()\n",
    "logger.setLevel(logging.ERROR)\n",
    "\n",
    "# full_path is where log file will be save\n",
    "handler = logging.FileHandler(full_path)\n",
    "handler.setFormatter(logging.Formatter('%(asctime)s:%(message)s'))\n",
    "logger.addHandler(handler)\n",
    "\n",
    "\n",
    "def divide(a,b):\n",
    "    try:\n",
    "        return a/b\n",
    "    except ZeroDivisionError:\n",
    "        logging.error(\"Cannot Divide by Zero\")\n",
    "\n",
    "divide(1,0)\n",
    "handler.close()"
   ]
  },
  {
   "cell_type": "code",
   "execution_count": null,
   "id": "af14f4b1-220a-4c33-b49c-809fdf0e53ec",
   "metadata": {},
   "outputs": [],
   "source": []
  }
 ],
 "metadata": {
  "kernelspec": {
   "display_name": "Python 3 (ipykernel)",
   "language": "python",
   "name": "python3"
  },
  "language_info": {
   "codemirror_mode": {
    "name": "ipython",
    "version": 3
   },
   "file_extension": ".py",
   "mimetype": "text/x-python",
   "name": "python",
   "nbconvert_exporter": "python",
   "pygments_lexer": "ipython3",
   "version": "3.10.6"
  }
 },
 "nbformat": 4,
 "nbformat_minor": 5
}
