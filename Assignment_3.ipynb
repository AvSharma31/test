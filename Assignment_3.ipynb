{
 "cells": [
  {
   "cell_type": "raw",
   "id": "bacd9bb0-8c47-4d6d-aab1-4a11a9dae1b7",
   "metadata": {},
   "source": [
    "1. Why are functions advantageous to have in your programs?\n",
    "\n",
    "Reduces the no of lines of codes by directly calling the function."
   ]
  },
  {
   "cell_type": "raw",
   "id": "623d6e82-ed67-4e5a-9bee-b09d9756d13f",
   "metadata": {},
   "source": [
    "2. When does the code in a function run: when it's specified or when it's called?\n",
    "\n",
    "When function is called."
   ]
  },
  {
   "cell_type": "raw",
   "id": "50a46a28-45a9-4a42-8ead-60e396c1517a",
   "metadata": {},
   "source": [
    "3. What statement creates a function?\n",
    "\n",
    "def MyFun()\n",
    "This is used to create a function"
   ]
  },
  {
   "cell_type": "raw",
   "id": "0cfffab1-c1b6-4c13-9ccc-dc20f9112581",
   "metadata": {},
   "source": [
    "4. What is the difference between a function and a function call?\n",
    "\n",
    "Function is a way to write code which can be reused in the program which reduces the lines of code and need not be written again. Function calling is invoking a function the program."
   ]
  },
  {
   "cell_type": "raw",
   "id": "f79b3ab6-08e1-40b3-b629-eaea3509a25a",
   "metadata": {},
   "source": [
    "5. How many global scopes are there in a Python program? How many local scopes?\n",
    "\n",
    "one global scope For Example:\n",
    "x=10\n",
    "def MyFun():\n",
    "    print(x)\n",
    "\n",
    "and there can be many local scopes. For example:\n",
    "\n",
    "def MyFun():\n",
    "    x=12\n",
    "    print(x)\n",
    "\n",
    "Here x is defined inside the function so if we try to print outside the function that will throw an error."
   ]
  },
  {
   "cell_type": "raw",
   "id": "547ec592-c356-4832-8b7e-600e098ed905",
   "metadata": {},
   "source": [
    "6. What happens to variables in a local scope when the function call returns?\n",
    "\n",
    "after execution of a function the local variables are destroyed."
   ]
  },
  {
   "cell_type": "raw",
   "id": "4fd4ffb9-5704-4c7f-a386-8cf57789a774",
   "metadata": {},
   "source": [
    "7. What is the concept of a return value? Is it possible to have a return value in an expression?\n",
    "\n",
    "return keyword can be used inside a function to return the result. return keyword can only be used to return value of function or method."
   ]
  },
  {
   "cell_type": "raw",
   "id": "3b07c72a-63cd-42b9-90cb-e6ffd1c0f381",
   "metadata": {},
   "source": [
    "8. If a function does not have a return statement, what is the return value of a call to that function?\n",
    "\n",
    "then the function will not return anything. It will be void meaning empty."
   ]
  },
  {
   "cell_type": "raw",
   "id": "664efee1-cf41-4904-a345-4a801f21e189",
   "metadata": {},
   "source": [
    "9. How do you make a function variable refer to the global variable?"
   ]
  },
  {
   "cell_type": "code",
   "execution_count": 3,
   "id": "c74da2e1-a850-49df-ad15-9d6dcb9b485e",
   "metadata": {},
   "outputs": [
    {
     "name": "stdout",
     "output_type": "stream",
     "text": [
      "5\n"
     ]
    }
   ],
   "source": [
    "x=10\n",
    "\n",
    "def MyFun():\n",
    "    x=5\n",
    "    print(x)\n",
    "\n",
    "MyFun()"
   ]
  },
  {
   "cell_type": "raw",
   "id": "b3e94561-d985-4544-b3bd-fc5b29a71e00",
   "metadata": {},
   "source": [
    "10. What is the data type of None?"
   ]
  },
  {
   "cell_type": "code",
   "execution_count": 4,
   "id": "54ec24bc-4e2a-43c1-bae5-bb3824bd967d",
   "metadata": {},
   "outputs": [
    {
     "data": {
      "text/plain": [
       "NoneType"
      ]
     },
     "execution_count": 4,
     "metadata": {},
     "output_type": "execute_result"
    }
   ],
   "source": [
    "type(None)"
   ]
  },
  {
   "cell_type": "raw",
   "id": "254df057-288a-4615-88ae-6f456794c84d",
   "metadata": {},
   "source": [
    "11. What does the sentence import areallyourpetsnamederic do?\n",
    "\n",
    "this imports the package areallyourpetsnamederic into the program"
   ]
  },
  {
   "cell_type": "raw",
   "id": "b18a46ed-25ec-4027-9865-275435085ae4",
   "metadata": {},
   "source": [
    "12. If you had a bacon() feature in a spam module, what would you call it after importing spam?\n",
    "\n",
    "Function inside spam package"
   ]
  },
  {
   "cell_type": "raw",
   "id": "7f7430ae-e3bf-4295-9fd8-edb71a95b09b",
   "metadata": {},
   "source": [
    "13. What can you do to save a programme from crashing if it encounters an error?\n",
    "\n",
    "handling the error using try except, so that if error occurs then it is caught and program does not crash"
   ]
  },
  {
   "cell_type": "raw",
   "id": "3aeae502-0c56-4978-9a20-83d6463373eb",
   "metadata": {},
   "source": [
    "14. What is the purpose of the try clause? What is the purpose of the except clause?\n",
    "\n",
    "try is used to test code in which exceptions can also occur. expect is used when an exception occurs in the program"
   ]
  }
 ],
 "metadata": {
  "kernelspec": {
   "display_name": "Python 3 (ipykernel)",
   "language": "python",
   "name": "python3"
  },
  "language_info": {
   "codemirror_mode": {
    "name": "ipython",
    "version": 3
   },
   "file_extension": ".py",
   "mimetype": "text/x-python",
   "name": "python",
   "nbconvert_exporter": "python",
   "pygments_lexer": "ipython3",
   "version": "3.10.6"
  }
 },
 "nbformat": 4,
 "nbformat_minor": 5
}
