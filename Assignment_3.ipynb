{
 "cells": [
  {
   "cell_type": "markdown",
   "id": "4d58a4db-06fb-4c08-8955-315d19bc598b",
   "metadata": {},
   "source": [
    "1. Why are functions advantageous to have in your programs?\n",
    "\n",
    "Reduces the no of lines of codes by directly calling the function."
   ]
  },
  {
   "cell_type": "markdown",
   "id": "d907853e-2bde-4fea-9f81-feffac27ddda",
   "metadata": {},
   "source": [
    "2. When does the code in a function run: when it's specified or when it's called?\n",
    "\n",
    "When function is called."
   ]
  },
  {
   "cell_type": "markdown",
   "id": "2aa641bc-26fc-46e3-9f5d-e482fe165938",
   "metadata": {},
   "source": [
    "3. What statement creates a function?\n",
    "\n",
    "def MyFun()\n",
    "This is used to create a function"
   ]
  },
  {
   "cell_type": "markdown",
   "id": "6ed5d2c3-ea5f-4bbe-bab6-68262d5967cd",
   "metadata": {},
   "source": [
    "4. What is the difference between a function and a function call?\n",
    "\n",
    "Function is a way to write code which can be reused in the program which reduces the lines of code and need not be written again. Function calling is invoking a function the program."
   ]
  },
  {
   "cell_type": "markdown",
   "id": "9b559227-667e-466f-a249-427b335b1ee6",
   "metadata": {},
   "source": [
    "5. How many global scopes are there in a Python program? How many local scopes?\n",
    "\n",
    "one global scope , where we can define variable globally so that it can be called outside the function as well. For Example:\n",
    "\n",
    "\n"
   ]
  },
  {
   "cell_type": "code",
   "execution_count": 1,
   "id": "994b77c4-2b5b-4825-a5e4-d4992918427d",
   "metadata": {},
   "outputs": [],
   "source": [
    "x=10\n",
    "def MyFun():\n",
    "    print(x)"
   ]
  },
  {
   "cell_type": "markdown",
   "id": "07e3a6d5-caf7-4256-a58e-30cbaf0191e9",
   "metadata": {},
   "source": [
    "and there can be many local scopes. For example:"
   ]
  },
  {
   "cell_type": "code",
   "execution_count": 4,
   "id": "d91d15d7-dce8-4a90-903b-3385f1d4bb46",
   "metadata": {},
   "outputs": [
    {
     "ename": "NameError",
     "evalue": "name 'y' is not defined",
     "output_type": "error",
     "traceback": [
      "\u001b[0;31m---------------------------------------------------------------------------\u001b[0m",
      "\u001b[0;31mNameError\u001b[0m                                 Traceback (most recent call last)",
      "Cell \u001b[0;32mIn [4], line 3\u001b[0m\n\u001b[1;32m      1\u001b[0m \u001b[38;5;28;01mdef\u001b[39;00m \u001b[38;5;21mMyFun\u001b[39m():\n\u001b[1;32m      2\u001b[0m     y\u001b[38;5;241m=\u001b[39m\u001b[38;5;241m12\u001b[39m\n\u001b[0;32m----> 3\u001b[0m \u001b[38;5;28mprint\u001b[39m(\u001b[43my\u001b[49m)\n",
      "\u001b[0;31mNameError\u001b[0m: name 'y' is not defined"
     ]
    }
   ],
   "source": [
    "def MyFun():\n",
    "    y=12\n",
    "print(y)"
   ]
  },
  {
   "cell_type": "markdown",
   "id": "5126332c-46d8-4e93-8d00-eaae3fb30ca1",
   "metadata": {},
   "source": [
    "Here y is defined inside the function so if we try to print outside the function that will throw an error because y is defined inside the function and cannot be called from outside the function."
   ]
  },
  {
   "cell_type": "markdown",
   "id": "58701228-c325-4129-bab2-383d81075be2",
   "metadata": {},
   "source": [
    "6. What happens to variables in a local scope when the function call returns?\n",
    "\n",
    "after execution of a function the local variables are destroyed."
   ]
  },
  {
   "cell_type": "markdown",
   "id": "c332b308-96a6-43d7-a862-4a850e7e8261",
   "metadata": {},
   "source": [
    "7. What is the concept of a return value? Is it possible to have a return value in an expression?\n",
    "\n",
    "return keyword can be used inside a function to return the result. return keyword can only be used to return value of function or method."
   ]
  },
  {
   "cell_type": "markdown",
   "id": "1ba8956d-34da-4854-9d66-339c8e73e189",
   "metadata": {},
   "source": [
    "8. If a function does not have a return statement, what is the return value of a call to that function?\n",
    "\n",
    "then the function will not return anything. It will be void meaning empty."
   ]
  },
  {
   "cell_type": "markdown",
   "id": "0788b835-1980-417d-be90-ecfe51e24266",
   "metadata": {},
   "source": [
    "9. How do you make a function variable refer to the global variable?"
   ]
  },
  {
   "cell_type": "code",
   "execution_count": 3,
   "id": "c74da2e1-a850-49df-ad15-9d6dcb9b485e",
   "metadata": {},
   "outputs": [
    {
     "name": "stdout",
     "output_type": "stream",
     "text": [
      "5\n"
     ]
    }
   ],
   "source": [
    "x=10\n",
    "\n",
    "def MyFun():\n",
    "    x=5\n",
    "    print(x)\n",
    "\n",
    "MyFun()"
   ]
  },
  {
   "cell_type": "markdown",
   "id": "3d4ffc19-8a4b-40b5-a40e-a77e2cca582d",
   "metadata": {},
   "source": [
    "10. What is the data type of None?"
   ]
  },
  {
   "cell_type": "code",
   "execution_count": 4,
   "id": "54ec24bc-4e2a-43c1-bae5-bb3824bd967d",
   "metadata": {},
   "outputs": [
    {
     "data": {
      "text/plain": [
       "NoneType"
      ]
     },
     "execution_count": 4,
     "metadata": {},
     "output_type": "execute_result"
    }
   ],
   "source": [
    "type(None)"
   ]
  },
  {
   "cell_type": "markdown",
   "id": "92fe072e-e030-45b8-ba98-e2e2d3ced52d",
   "metadata": {},
   "source": [
    "11. What does the sentence import areallyourpetsnamederic do?\n",
    "\n",
    "this imports the package areallyourpetsnamederic into the program"
   ]
  },
  {
   "cell_type": "markdown",
   "id": "6ccda46a-28fa-4dbc-bcfa-e9408ca6ce81",
   "metadata": {},
   "source": [
    "12. If you had a bacon() feature in a spam module, what would you call it after importing spam?\n",
    "\n",
    "Function inside spam package"
   ]
  },
  {
   "cell_type": "markdown",
   "id": "2b5fc060-4d04-46d9-ba31-de7b1d13ceaa",
   "metadata": {},
   "source": [
    "13. What can you do to save a programme from crashing if it encounters an error?\n",
    "\n",
    "handling the error using try except, so that if error occurs then it is caught and program does not crash"
   ]
  },
  {
   "cell_type": "markdown",
   "id": "66e8ad0c-19d7-45ae-a0bf-aebfafd003d4",
   "metadata": {},
   "source": [
    "14. What is the purpose of the try clause? What is the purpose of the except clause?\n",
    "\n",
    "try is used to test code in which exceptions can also occur. expect is used when an exception occurs in the program"
   ]
  },
  {
   "cell_type": "code",
   "execution_count": null,
   "id": "374c6659-39fc-4913-959d-9313d5b7f317",
   "metadata": {},
   "outputs": [],
   "source": []
  }
 ],
 "metadata": {
  "kernelspec": {
   "display_name": "Python 3 (ipykernel)",
   "language": "python",
   "name": "python3"
  },
  "language_info": {
   "codemirror_mode": {
    "name": "ipython",
    "version": 3
   },
   "file_extension": ".py",
   "mimetype": "text/x-python",
   "name": "python",
   "nbconvert_exporter": "python",
   "pygments_lexer": "ipython3",
   "version": "3.10.6"
  }
 },
 "nbformat": 4,
 "nbformat_minor": 5
}
