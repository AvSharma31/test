{
 "cells": [
  {
   "cell_type": "markdown",
   "id": "979c31f9-4c23-4cf7-a53c-735830baff88",
   "metadata": {},
   "source": [
    "Q.1. What are keywords in python? Using the keyword library, print all the python keywords."
   ]
  },
  {
   "cell_type": "markdown",
   "id": "5466c835-4677-4d9e-b9a7-4e877be606c0",
   "metadata": {},
   "source": [
    "Ans. Special words that are used in python. It can be for variables, function etc."
   ]
  },
  {
   "cell_type": "code",
   "execution_count": 8,
   "id": "0731eb7c-f3df-430e-81f0-265d2fc41cfd",
   "metadata": {},
   "outputs": [
    {
     "name": "stdout",
     "output_type": "stream",
     "text": [
      "['False', 'None', 'True', 'and', 'as', 'assert', 'async', 'await', 'break', 'class', 'continue', 'def', 'del', 'elif', 'else', 'except', 'finally', 'for', 'from', 'global', 'if', 'import', 'in', 'is', 'lambda', 'nonlocal', 'not', 'or', 'pass', 'raise', 'return', 'try', 'while', 'with', 'yield']\n"
     ]
    }
   ],
   "source": [
    "import keyword\n",
    "print(keyword.kwlist)"
   ]
  },
  {
   "cell_type": "markdown",
   "id": "fe1dad0d-d69d-4382-ae0d-d6c98caabbd2",
   "metadata": {},
   "source": [
    "Q.2. What are the rules to create variables in python?"
   ]
  },
  {
   "cell_type": "markdown",
   "id": "4ea0a61d-b9ca-43c5-b1dd-21144ba22727",
   "metadata": {},
   "source": [
    "Ans. variables should be in the form of string or alphanumeric. It cannot be like 100=\"String\". Here we cannot use 100 as a variable. For example:_age, age, age1, etc. Values should be having a meaning which is easily understandable.\n",
    "\n",
    "Variables are case sensitive. For example: age=10 and Age=100 are two different variables.\n",
    "\n",
    "variables can start with underscore(_) and strings.\n"
   ]
  },
  {
   "cell_type": "markdown",
   "id": "45c1abea-b8a5-433f-bf4e-997e25929f0b",
   "metadata": {},
   "source": [
    "Q.3. What are the standards and conventions followed for the nomenclature of variables in\n",
    "python to improve code readability and maintainability?"
   ]
  },
  {
   "cell_type": "markdown",
   "id": "7f713f15-d389-4b3b-8044-a51ccad51f6a",
   "metadata": {},
   "source": [
    "Ans. Variables should start from underscore or strings,\n",
    "\n",
    "variables cannot be numbers\n",
    "\n",
    "variables are case sensitive\n",
    "\n",
    "variables should be lowercase and separated by underscore. For example: first_name=\"John\""
   ]
  },
  {
   "cell_type": "markdown",
   "id": "c0a60f95-1cca-46be-aa3d-7d4f4da98f5b",
   "metadata": {},
   "source": [
    "Q.4. What will happen if a keyword is used as a variable name?"
   ]
  },
  {
   "cell_type": "markdown",
   "id": "898add28-de14-4b75-b5f6-35ef71e2158f",
   "metadata": {},
   "source": [
    "Ans. we cannot use keyword as a variable name it will give error. As keyword have specific meaning as they are special values."
   ]
  },
  {
   "cell_type": "markdown",
   "id": "ad7b31d7-9292-4b3d-81b2-37a47d7c682b",
   "metadata": {},
   "source": [
    "Q.5. For what purpose def keyword is used?"
   ]
  },
  {
   "cell_type": "markdown",
   "id": "39848b88-b515-46f6-8e9a-0236ed55ae14",
   "metadata": {},
   "source": [
    "Ans. For creating a user defined function we use def keyword before defining the function. For example:"
   ]
  },
  {
   "cell_type": "code",
   "execution_count": 1,
   "id": "c2980ff9-a310-4a2f-ac65-6acc06ff68f1",
   "metadata": {},
   "outputs": [
    {
     "name": "stdout",
     "output_type": "stream",
     "text": [
      "Hello world!\n"
     ]
    }
   ],
   "source": [
    "def my_function():\n",
    "    print(\"Hello world!\")\n",
    "\n",
    "my_function()"
   ]
  },
  {
   "cell_type": "markdown",
   "id": "f33392e9-0f29-4a78-a8f1-3a16f9a7717d",
   "metadata": {},
   "source": [
    "Q.6. What is the operation of this special character ‘\\’?"
   ]
  },
  {
   "cell_type": "code",
   "execution_count": null,
   "id": "e636871d-6ce0-4fa4-a240-23252c26b1d9",
   "metadata": {},
   "outputs": [],
   "source": [
    "Ans. Escape character"
   ]
  },
  {
   "cell_type": "markdown",
   "id": "140be62f-bddb-4784-a1b3-af676c520f53",
   "metadata": {},
   "source": [
    "Q.7. Give an example of the following conditions:\n",
    "(i) Homogeneous list\n",
    "(ii) Heterogeneous set\n",
    "(iii) Homogeneous tuple"
   ]
  },
  {
   "cell_type": "markdown",
   "id": "ff3ed2fe-2f02-418e-a4db-cb209e9b2b71",
   "metadata": {},
   "source": [
    "(i) Homogeneous list"
   ]
  },
  {
   "cell_type": "code",
   "execution_count": 4,
   "id": "02e39a56-9deb-414f-a0fd-8e14f7a1f193",
   "metadata": {},
   "outputs": [
    {
     "name": "stdout",
     "output_type": "stream",
     "text": [
      "[1, 2, 3, 4]\n"
     ]
    }
   ],
   "source": [
    "lt = [1,2,3,4]\n",
    "print(lt)"
   ]
  },
  {
   "cell_type": "markdown",
   "id": "38c03bac-8af2-4c68-b85e-2e76c53a9299",
   "metadata": {},
   "source": [
    "(ii) Heterogeneous set"
   ]
  },
  {
   "cell_type": "code",
   "execution_count": 5,
   "id": "cd6823bb-2709-48f7-817b-290a1bff6fbd",
   "metadata": {},
   "outputs": [
    {
     "name": "stdout",
     "output_type": "stream",
     "text": [
      "{1, 'apple', 78}\n"
     ]
    }
   ],
   "source": [
    "s = {1,\"apple\",True,78}\n",
    "print(s)"
   ]
  },
  {
   "cell_type": "markdown",
   "id": "5a2746e0-8533-4927-8db9-25912ad41467",
   "metadata": {},
   "source": [
    "(iii) Homogeneous tuple"
   ]
  },
  {
   "cell_type": "code",
   "execution_count": 7,
   "id": "00a29686-2c93-4863-b4f9-8c4154a0c5e8",
   "metadata": {},
   "outputs": [
    {
     "name": "stdout",
     "output_type": "stream",
     "text": [
      "(1, 2, 3, 4)\n"
     ]
    }
   ],
   "source": [
    "tup = (1,2,3,4)\n",
    "print(tup)"
   ]
  },
  {
   "cell_type": "markdown",
   "id": "2e2174a6-e31b-49b1-871c-67dd47e3188b",
   "metadata": {},
   "source": [
    "Q.8. Explain the mutable and immutable data types with proper explanation & examples."
   ]
  },
  {
   "cell_type": "markdown",
   "id": "cb6dca0f-a90b-49a2-9a00-2d4cc6479454",
   "metadata": {},
   "source": [
    "Ans. Values for which can be changed are mutable and values for which cannot be changed are immutable. For example:"
   ]
  },
  {
   "cell_type": "markdown",
   "id": "d61ddf86-c2d9-457d-bdd9-49ed1a1dba9e",
   "metadata": {},
   "source": [
    "(i) Mutable"
   ]
  },
  {
   "cell_type": "code",
   "execution_count": 8,
   "id": "d51639e4-f03f-4f91-a91d-2842167088b4",
   "metadata": {},
   "outputs": [
    {
     "name": "stdout",
     "output_type": "stream",
     "text": [
      "[1, 2, 3, 4, 5]\n",
      "{1, 'apples', 'Mangoes'}\n",
      "{'Name': 'john', 'age': 20, 'dept': 'finance'}\n"
     ]
    }
   ],
   "source": [
    "#  LISTS, SETS AND DICTIONARY ARE MUTABLE\n",
    "lst = [1,2,3,4]\n",
    "lst.append(5)\n",
    "print(lst)\n",
    "\n",
    "set_1 = {1,\"Mangoes\"}\n",
    "set_1.add(\"apples\")\n",
    "print(set_1)\n",
    "\n",
    "dict = {'Name':'john','age':20}\n",
    "dict.update({'dept':'finance'})\n",
    "print(dict)"
   ]
  },
  {
   "cell_type": "markdown",
   "id": "97d30025-8380-4d11-803f-5a1ef5afc723",
   "metadata": {},
   "source": [
    "(ii) Immutable"
   ]
  },
  {
   "cell_type": "code",
   "execution_count": 22,
   "id": "d97ea090-d6fb-474b-9f03-ca3de27103d8",
   "metadata": {},
   "outputs": [
    {
     "name": "stdout",
     "output_type": "stream",
     "text": [
      "Hello world\n",
      "Hello\n",
      "140700646756080\n",
      "(1, 2, 3, 4, 'apples', 'mangoes')\n",
      "140700278544160\n"
     ]
    }
   ],
   "source": [
    "# TUPLES AND STRINGS ARE IMMUTABLE\n",
    "str_1 = \"Hello\"\n",
    "print(str_1 + \" world\")\n",
    "print(str_1)\n",
    "\n",
    "tup = (1,2,3,4) \n",
    "tup_2 = (\"apples\",\"mangoes\")\n",
    "tup = tup +(tup_2)\n",
    "print(tup)\n",
    "# both tup points to different memory references "
   ]
  },
  {
   "cell_type": "raw",
   "id": "ea3a9180-a46d-4d81-bf2d-5cd7c6c27b04",
   "metadata": {},
   "source": [
    "Q.9. Write a code to create the given structure using only for loop.\n",
    "    *\n",
    "   ***\n",
    "  *****\n",
    " *******\n",
    "*********"
   ]
  },
  {
   "cell_type": "code",
   "execution_count": 96,
   "id": "8c864cc8-70da-4ca0-a4b6-6b0a776a3648",
   "metadata": {},
   "outputs": [
    {
     "name": "stdout",
     "output_type": "stream",
     "text": [
      "        * \n",
      "       \n",
      "      * * * \n",
      "     \n",
      "    * * * * * \n",
      "   \n",
      "  * * * * * * * \n",
      " \n",
      "* * * * * * * * * \n",
      "\n"
     ]
    }
   ],
   "source": [
    "n = 10\n",
    "m = (2*n)-12\n",
    "for i in range(0, n):  \n",
    "    for j in range(0, m):  \n",
    "         print(end=' ')  \n",
    "    m = m - 1 \n",
    "    for j in range(0, i + 1):\n",
    "        if (i+1)%2==1:\n",
    "            print(\"*\", end=' ')  \n",
    "    print(\"\")  "
   ]
  },
  {
   "cell_type": "raw",
   "id": "9b690c18-aa96-4eee-923b-77fc7ddd491a",
   "metadata": {},
   "source": [
    "Q.10. Write a code to create the given structure using while loop.\n",
    "|||||||||\n",
    " |||||||\n",
    "  |||||\n",
    "   |||\n",
    "    |"
   ]
  },
  {
   "cell_type": "code",
   "execution_count": 23,
   "id": "205dc9de-f878-4dc7-b03a-57cff2e1b497",
   "metadata": {},
   "outputs": [
    {
     "name": "stdout",
     "output_type": "stream",
     "text": [
      "    | | | | | | | | | \n",
      "     \n",
      "      | | | | | | | \n",
      "       \n",
      "        | | | | | \n",
      "         \n",
      "          | | | \n",
      "           \n",
      "            | \n"
     ]
    }
   ],
   "source": [
    "n=8 \n",
    "k = 2 * n - 12  \n",
    "for i in range(n, -1, -1):  \n",
    "    for j in range(k, 0, -1):  \n",
    "        print(end=\" \")  \n",
    "    k = k + 1  \n",
    "    for j in range(0, i + 1):\n",
    "        if (i+1)%2==1:\n",
    "            print(\"|\", end=\" \")  \n",
    "    print(\"\")  "
   ]
  }
 ],
 "metadata": {
  "kernelspec": {
   "display_name": "Python 3 (ipykernel)",
   "language": "python",
   "name": "python3"
  },
  "language_info": {
   "codemirror_mode": {
    "name": "ipython",
    "version": 3
   },
   "file_extension": ".py",
   "mimetype": "text/x-python",
   "name": "python",
   "nbconvert_exporter": "python",
   "pygments_lexer": "ipython3",
   "version": "3.10.6"
  }
 },
 "nbformat": 4,
 "nbformat_minor": 5
}
