{
 "cells": [
  {
   "cell_type": "markdown",
   "id": "2888af00-da3a-4f98-8be1-db2085edfd03",
   "metadata": {},
   "source": [
    "1. What is a lambda function in Python, and how does it differ from a regular function?"
   ]
  },
  {
   "cell_type": "markdown",
   "id": "aed44007-840d-4b75-af4c-318cf9c4047d",
   "metadata": {},
   "source": [
    "lambda function is a function created using lambda keyword. This creates function in a single line. regular function are not single lined and are usually complex, but lambda function is only used when we need to write simple function."
   ]
  },
  {
   "cell_type": "markdown",
   "id": "1bdba69c-7a90-4cfb-a684-8d76b30c8f09",
   "metadata": {},
   "source": [
    "2. Can a lambda function in Python have multiple arguments? If yes, how can you define and use\n",
    "them?"
   ]
  },
  {
   "cell_type": "markdown",
   "id": "552c4365-1fb3-40c4-8b49-1b2ec7f9aeb6",
   "metadata": {},
   "source": [
    "yes lambda function can have multiple arguments. For example"
   ]
  },
  {
   "cell_type": "code",
   "execution_count": 1,
   "id": "d9b32394-7ab6-4cae-ad86-90619fced44b",
   "metadata": {},
   "outputs": [
    {
     "name": "stdout",
     "output_type": "stream",
     "text": [
      "5\n"
     ]
    }
   ],
   "source": [
    "add = lambda x,y:x+y\n",
    "print(add(2,3))"
   ]
  },
  {
   "cell_type": "markdown",
   "id": "fe4546c0-72d2-4e62-84e7-39c30386b0a5",
   "metadata": {},
   "source": [
    "3. How are lambda functions typically used in Python? Provide an example use case."
   ]
  },
  {
   "cell_type": "markdown",
   "id": "523eb25d-dc9d-4e44-9a57-827e769695f6",
   "metadata": {},
   "source": [
    "they are used when we need to perform simple operations. \n",
    "small tasks can be completed.\n",
    "single line operations\n",
    "no need to use definations for creating function. For example:"
   ]
  },
  {
   "cell_type": "code",
   "execution_count": 4,
   "id": "6927c859-ce0b-4bdc-a77b-891dd552e4c0",
   "metadata": {},
   "outputs": [
    {
     "name": "stdout",
     "output_type": "stream",
     "text": [
      "Hello World\n"
     ]
    }
   ],
   "source": [
    "concat = lambda x,y:x+y\n",
    "print(concat(\"Hello\",\" World\"))"
   ]
  },
  {
   "cell_type": "markdown",
   "id": "cbe1bd84-893d-4f34-9128-32a719de3a86",
   "metadata": {},
   "source": [
    "4. What are the advantages and limitations of lambda functions compared to regular functions in\n",
    "Python?"
   ]
  },
  {
   "cell_type": "markdown",
   "id": "02aad17f-dc35-420d-9bf6-03554d6c9989",
   "metadata": {},
   "source": [
    "advantages :\n",
    "simple calculations can be done. \n",
    "small tasks can be completed.\n",
    "single line operations\n",
    "no need to use definations for creating function."
   ]
  },
  {
   "cell_type": "markdown",
   "id": "0f205581-9db6-4401-b159-901fe3e90945",
   "metadata": {},
   "source": [
    "limitations :\n",
    "cannot have loops,only expressions are allowed.\n",
    "not easily understandable as compared to regular functions."
   ]
  },
  {
   "cell_type": "markdown",
   "id": "94097aa1-2344-44a2-891a-e2abc49648a8",
   "metadata": {},
   "source": [
    "5. Are lambda functions in Python able to access variables defined outside of their own scope?\n",
    "Explain with an example."
   ]
  },
  {
   "cell_type": "markdown",
   "id": "211c84e2-ff30-4133-afe0-647cb47a8551",
   "metadata": {},
   "source": [
    "they can only acess variables  in there scope and global scop/ for example:"
   ]
  },
  {
   "cell_type": "code",
   "execution_count": 8,
   "id": "e19aba9c-6dce-4229-b681-38efcdeec9fb",
   "metadata": {},
   "outputs": [
    {
     "name": "stdout",
     "output_type": "stream",
     "text": [
      "8\n"
     ]
    }
   ],
   "source": [
    "i=2\n",
    "multiply = lambda x:x*i\n",
    "print(multiply(4))"
   ]
  },
  {
   "cell_type": "markdown",
   "id": "06d8c4fd-d525-4737-bb9a-2e0684a896f4",
   "metadata": {},
   "source": [
    "6. Write a lambda function to calculate the square of a given number."
   ]
  },
  {
   "cell_type": "code",
   "execution_count": 9,
   "id": "2d260376-f604-420e-b1bd-8934a24269f3",
   "metadata": {},
   "outputs": [
    {
     "name": "stdout",
     "output_type": "stream",
     "text": [
      "25\n"
     ]
    }
   ],
   "source": [
    "square = lambda x:x **2\n",
    "print(square(5))"
   ]
  },
  {
   "cell_type": "markdown",
   "id": "1bf08c4f-cb39-451d-8e56-e0ca9554ef61",
   "metadata": {},
   "source": [
    "7. Create a lambda function to find the maximum value in a list of integers."
   ]
  },
  {
   "cell_type": "code",
   "execution_count": 12,
   "id": "11f4f84f-0dd3-41a3-a2d1-7239f0e6634a",
   "metadata": {},
   "outputs": [
    {
     "name": "stdout",
     "output_type": "stream",
     "text": [
      "5\n"
     ]
    }
   ],
   "source": [
    "lst_1=[1,2,3,4,5]\n",
    "print(max(lst_1, key=lambda x: int(x)))"
   ]
  },
  {
   "cell_type": "markdown",
   "id": "20bba2dc-3392-4ae0-8c43-0e907d10a7cd",
   "metadata": {},
   "source": [
    "8. Implement a lambda function to filter out all the even numbers from a list of integers."
   ]
  },
  {
   "cell_type": "code",
   "execution_count": 19,
   "id": "7476aef2-e8f9-4b97-99cb-69e6fa32c6b4",
   "metadata": {},
   "outputs": [
    {
     "name": "stdout",
     "output_type": "stream",
     "text": [
      "[2, 98]\n"
     ]
    }
   ],
   "source": [
    "lst_2 = [2,3,98,9]\n",
    "filtered_list = list(filter(lambda x:x%2==0,lst_2))\n",
    "print(filtered_list)"
   ]
  },
  {
   "cell_type": "markdown",
   "id": "138b181e-1b39-49be-908c-f8ea50619f1d",
   "metadata": {},
   "source": [
    "9. Write a lambda function to sort a list of strings in ascending order based on the length of each\n",
    "string."
   ]
  },
  {
   "cell_type": "code",
   "execution_count": 21,
   "id": "c95cbec1-b8df-41d7-a6e6-468a108d5889",
   "metadata": {},
   "outputs": [
    {
     "name": "stdout",
     "output_type": "stream",
     "text": [
      "['kiwi', 'mango', 'apple', 'grapes', 'banana']\n"
     ]
    }
   ],
   "source": [
    "fruits = [\"mango\",\"apple\",\"kiwi\",\"grapes\",\"banana\"]\n",
    "\n",
    "sorted_fruits = list(sorted(fruits, key=lambda x: len(x)))\n",
    "\n",
    "print(sorted_fruits)"
   ]
  },
  {
   "cell_type": "markdown",
   "id": "798e32a5-5775-4aca-a5fc-e27f70f0f0fd",
   "metadata": {},
   "source": [
    "10. Create a lambda function that takes two lists as input and returns a new list containing the\n",
    "common elements between the two lists."
   ]
  },
  {
   "cell_type": "code",
   "execution_count": 30,
   "id": "066255ad-9049-452b-aaac-04db72963be6",
   "metadata": {},
   "outputs": [
    {
     "name": "stdin",
     "output_type": "stream",
     "text": [
      "Enter list 1 1 34 65 3\n",
      "Enter list 2 1 45 23 2\n"
     ]
    },
    {
     "name": "stdout",
     "output_type": "stream",
     "text": [
      "['1', '34', '65', '3']\n",
      "['1', '45', '23', '2']\n",
      "['1']\n"
     ]
    }
   ],
   "source": [
    "lst_1 = input(\"Enter list 1\").split()\n",
    "lst_2 = input(\"Enter list 2\").split()\n",
    "print(lst_1)\n",
    "print(lst_2)\n",
    "filtered_list = list(filter(lambda x: x in lst_2,lst_1))\n",
    "print(filtered_list)"
   ]
  },
  {
   "cell_type": "markdown",
   "id": "dc53ce1d-570f-43ec-9215-ec561ebaeba9",
   "metadata": {},
   "source": [
    "11. Write a recursive function to calculate the factorial of a given positive integer."
   ]
  },
  {
   "cell_type": "code",
   "execution_count": 11,
   "id": "b646c026-514b-462e-a16c-4f078af782d8",
   "metadata": {},
   "outputs": [
    {
     "name": "stdout",
     "output_type": "stream",
     "text": [
      "120\n"
     ]
    }
   ],
   "source": [
    "def rec_factorial(n):\n",
    "    if n==1:\n",
    "        return 1\n",
    "    else:\n",
    "        return n * rec_factorial(n-1)\n",
    "\n",
    "print(rec_factorial(5))"
   ]
  },
  {
   "cell_type": "markdown",
   "id": "eebf8b68-23ed-4cd5-94c8-8587fa5ba9bc",
   "metadata": {},
   "source": [
    "12. Implement a recursive function to compute the nth Fibonacci number."
   ]
  },
  {
   "cell_type": "code",
   "execution_count": 14,
   "id": "af4096ae-75b9-400f-a734-adee28d6e798",
   "metadata": {},
   "outputs": [
    {
     "name": "stdout",
     "output_type": "stream",
     "text": [
      "8\n"
     ]
    }
   ],
   "source": [
    "def rec_fibonacci(n):\n",
    "    if n<=1:\n",
    "        return n\n",
    "    else:\n",
    "        return rec_fibonacci(n-1) + rec_fibonacci(n-2)\n",
    "\n",
    "print(rec_fibonacci(6))"
   ]
  },
  {
   "cell_type": "markdown",
   "id": "b5e8d2f8-93d9-45d7-9d70-b4bb3da6be2f",
   "metadata": {},
   "source": [
    "13. Create a recursive function to find the sum of all the elements in a given list."
   ]
  },
  {
   "cell_type": "code",
   "execution_count": 20,
   "id": "879216eb-2cfe-4fc7-8244-97564b09fec8",
   "metadata": {},
   "outputs": [
    {
     "name": "stdout",
     "output_type": "stream",
     "text": [
      "15\n"
     ]
    }
   ],
   "source": [
    "list_1=[1,2,3,4,5]\n",
    "def rec_sum(list_1,sum):\n",
    "    if not list_1:\n",
    "        return sum\n",
    "    else:\n",
    "        return rec_sum(list_1[1:],sum+list_1[0])\n",
    "\n",
    "print(rec_sum(list_1,0))"
   ]
  },
  {
   "cell_type": "markdown",
   "id": "57356418-1cd3-4368-bfbc-6b5cbd52ff14",
   "metadata": {},
   "source": [
    "14. Write a recursive function to determine whether a given string is a palindrome."
   ]
  },
  {
   "cell_type": "code",
   "execution_count": 13,
   "id": "482d8bda-4840-4d74-8857-e39809b908db",
   "metadata": {},
   "outputs": [
    {
     "name": "stdin",
     "output_type": "stream",
     "text": [
      "Enter string madam\n"
     ]
    },
    {
     "name": "stdout",
     "output_type": "stream",
     "text": [
      "Palindrome\n"
     ]
    }
   ],
   "source": [
    "string = input(\"Enter string\")\n",
    "\n",
    "def rec_palindrome(string):\n",
    "    if len(string)<2:\n",
    "        return \"Palindrome\"\n",
    "    if string[0] != string[-1]:\n",
    "        return \"Not Palindrome\"\n",
    "    \n",
    "    return rec_palindrome(string[1:-1])\n",
    "\n",
    "print(rec_palindrome(string))"
   ]
  },
  {
   "cell_type": "markdown",
   "id": "fa16f880-564c-4526-b82c-fd77dca3aa30",
   "metadata": {},
   "source": [
    "15. Implement a recursive function to find the greatest common divisor (GCD) of two positive integers."
   ]
  },
  {
   "cell_type": "code",
   "execution_count": 7,
   "id": "af444eba-966e-4aae-a681-60aaf89bb1d6",
   "metadata": {},
   "outputs": [
    {
     "name": "stdin",
     "output_type": "stream",
     "text": [
      "Enter num1 2\n",
      "Enter num2 4\n"
     ]
    },
    {
     "name": "stdout",
     "output_type": "stream",
     "text": [
      "2\n"
     ]
    }
   ],
   "source": [
    "a = int(input(\"Enter num1\"))\n",
    "b = int(input(\"Enter num2\"))\n",
    "def rec_gcd(a,b):\n",
    "    if(a==0 or b==0):\n",
    "        return 0\n",
    "    elif(a==b):\n",
    "        return a\n",
    "    elif(a>b):\n",
    "        return rec_gcd(a-b,b)\n",
    "    else:\n",
    "        return rec_gcd(a,b-a)\n",
    "\n",
    "print(rec_gcd(a,b))"
   ]
  }
 ],
 "metadata": {
  "kernelspec": {
   "display_name": "Python 3 (ipykernel)",
   "language": "python",
   "name": "python3"
  },
  "language_info": {
   "codemirror_mode": {
    "name": "ipython",
    "version": 3
   },
   "file_extension": ".py",
   "mimetype": "text/x-python",
   "name": "python",
   "nbconvert_exporter": "python",
   "pygments_lexer": "ipython3",
   "version": "3.10.6"
  }
 },
 "nbformat": 4,
 "nbformat_minor": 5
}
