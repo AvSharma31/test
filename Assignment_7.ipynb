{
 "cells": [
  {
   "cell_type": "markdown",
   "id": "cfe0528b-af2b-480b-ad07-8bdd3f97b9fe",
   "metadata": {},
   "source": [
    "Q.1. Create two int type variables, apply addition, subtraction, division and multiplications\n",
    "and store the results in variables. Then print the data in the following format by calling the\n",
    "variables:\n",
    "First variable is __ & second variable is __.\n",
    "Addition: __ + __ = __\n",
    "Subtraction: __ - __ = __\n",
    "Multiplication: __ * __ = __\n",
    "Division: __ / __ = __\n"
   ]
  },
  {
   "cell_type": "code",
   "execution_count": 1,
   "id": "312bf536-368c-4a96-aa36-bfe77663c1c3",
   "metadata": {},
   "outputs": [
    {
     "name": "stdout",
     "output_type": "stream",
     "text": [
      "First variable is 20 & second variable is 30\n",
      "Addition: 20 + 30 = 50\n",
      "Subtraction: 20 - 30 = -10\n",
      "Multiplication: 20 * 30 = 600\n",
      "Division: 20 / 30 = 0.6666666666666666\n"
     ]
    }
   ],
   "source": [
    "a=20\n",
    "b=30\n",
    "add = a+b\n",
    "sub = a-b\n",
    "div = a/b\n",
    "multi = a*b\n",
    "\n",
    "print(f\"First variable is {a} & second variable is {b}\")\n",
    "print(f\"Addition: {a} + {b} = {add}\")\n",
    "print(f\"Subtraction: {a} - {b} = {sub}\")\n",
    "print(f\"Multiplication: {a} * {b} = {multi}\")\n",
    "print(f\"Division: {a} / {b} = {div}\")"
   ]
  },
  {
   "cell_type": "markdown",
   "id": "2853de08-1725-453c-8b5a-f7d3db733381",
   "metadata": {},
   "source": [
    "Q.2. What is the difference between the following operators:\n",
    "(i) ‘/’ & ‘//’\n",
    "(ii) ‘**’ & ‘^’\n"
   ]
  },
  {
   "cell_type": "markdown",
   "id": "fb247136-25c4-4557-bb72-567f6dd1dad2",
   "metadata": {},
   "source": [
    "(i) '/' is used as a division operator and returns value in float form and '//' is used for division which will give nearest whole no value after dividing. For example:"
   ]
  },
  {
   "cell_type": "code",
   "execution_count": 36,
   "id": "d3008558-fd34-42f7-b859-e0eb08d3a73c",
   "metadata": {},
   "outputs": [
    {
     "name": "stdout",
     "output_type": "stream",
     "text": [
      "2.5\n",
      "2\n"
     ]
    }
   ],
   "source": [
    "a=5\n",
    "b=2\n",
    "print(a/b)\n",
    "print(a//b)"
   ]
  },
  {
   "cell_type": "markdown",
   "id": "b0631d08-89e0-4558-a3b4-62b7bd64bbb7",
   "metadata": {},
   "source": [
    "(ii) '**' is used  for power of values meaning how many times value should be multiplied. For example. 2 * 3 means 2 * 2 * 2 which is 8 and '^' compares the values in bits and if both are 1 then value is 0 or both are zero then value is 0 and if there is 1 then value is 1. For example:\n",
    "6 = 0110\n",
    "3 = 0011\n",
    "then:\n",
    "6^3 = 0101 and this is 5"
   ]
  },
  {
   "cell_type": "code",
   "execution_count": 2,
   "id": "3474a38d-ea23-4720-9d34-4b8e68b95f8b",
   "metadata": {},
   "outputs": [
    {
     "data": {
      "text/plain": [
       "5"
      ]
     },
     "execution_count": 2,
     "metadata": {},
     "output_type": "execute_result"
    }
   ],
   "source": [
    "6^3"
   ]
  },
  {
   "cell_type": "code",
   "execution_count": 3,
   "id": "2c5811ab-0365-40f8-a909-d3af10c827db",
   "metadata": {},
   "outputs": [
    {
     "name": "stdout",
     "output_type": "stream",
     "text": [
      "8\n",
      "1\n"
     ]
    }
   ],
   "source": [
    "a=2        # 0010\n",
    "b=3        # 0011\n",
    "  # result = 0001 this is 1\n",
    "print(a**b)\n",
    "print(a^b)"
   ]
  },
  {
   "cell_type": "markdown",
   "id": "f927ed7b-083e-45ca-b8ae-4f5163641ac2",
   "metadata": {},
   "source": [
    "Q.3. List the logical operators.\n"
   ]
  },
  {
   "cell_type": "markdown",
   "id": "8fa3882a-38e5-438a-9c01-db50b4a75b2e",
   "metadata": {},
   "source": [
    "and, or and not"
   ]
  },
  {
   "cell_type": "markdown",
   "id": "9b0c329c-5f17-4b58-ad1b-6921c08886b3",
   "metadata": {},
   "source": [
    "Q.4. Explain right shift operator and left shift operator with examples.\n"
   ]
  },
  {
   "cell_type": "markdown",
   "id": "e4ce6076-5974-4826-aa8a-3e745fc9fcf5",
   "metadata": {},
   "source": [
    "right shift operator is '>>' moves each bit specified no of times to right\n",
    "For example: \n"
   ]
  },
  {
   "cell_type": "code",
   "execution_count": 11,
   "id": "1d2fd8ac-af6a-477d-8f92-680850d7d75b",
   "metadata": {},
   "outputs": [
    {
     "data": {
      "text/plain": [
       "2"
      ]
     },
     "execution_count": 11,
     "metadata": {},
     "output_type": "execute_result"
    }
   ],
   "source": [
    "a = 8 #1000\n",
    "b = 2 #0010\n",
    "a>>b  #result is 0010"
   ]
  },
  {
   "cell_type": "markdown",
   "id": "1379bbb9-bbe0-4bd3-a04f-ac68efc0ec2b",
   "metadata": {},
   "source": [
    "left shift operator is '<<' moves each bit specified no of times to the left. For example:"
   ]
  },
  {
   "cell_type": "code",
   "execution_count": 18,
   "id": "89c91803-4fe5-4d34-9986-605032162465",
   "metadata": {},
   "outputs": [
    {
     "data": {
      "text/plain": [
       "32"
      ]
     },
     "execution_count": 18,
     "metadata": {},
     "output_type": "execute_result"
    }
   ],
   "source": [
    "a = 8 #001000\n",
    "b = 2 #000010\n",
    "a<<b #result is 100000"
   ]
  },
  {
   "cell_type": "markdown",
   "id": "ed42cee8-7e25-4a83-84ed-19942851c5b0",
   "metadata": {},
   "source": [
    "Q.5. Create a list containing int type data of length 15. Then write a code to check if 10 is\n",
    "present in the list or not"
   ]
  },
  {
   "cell_type": "code",
   "execution_count": 44,
   "id": "85ea5957-bca8-4494-931f-a2c9c9e33feb",
   "metadata": {},
   "outputs": [
    {
     "name": "stdout",
     "output_type": "stream",
     "text": [
      "10 is present\n"
     ]
    }
   ],
   "source": [
    "lst = [1,2,3,4,5,6,7,8,9,10,1,2,3,4,5]\n",
    "if 10 in lst:\n",
    "    print('10 is present')\n",
    "else:\n",
    "    print('not present')"
   ]
  }
 ],
 "metadata": {
  "kernelspec": {
   "display_name": "Python 3 (ipykernel)",
   "language": "python",
   "name": "python3"
  },
  "language_info": {
   "codemirror_mode": {
    "name": "ipython",
    "version": 3
   },
   "file_extension": ".py",
   "mimetype": "text/x-python",
   "name": "python",
   "nbconvert_exporter": "python",
   "pygments_lexer": "ipython3",
   "version": "3.10.6"
  }
 },
 "nbformat": 4,
 "nbformat_minor": 5
}
