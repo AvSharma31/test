{
 "cells": [
  {
   "cell_type": "raw",
   "id": "34039e5a-c8a4-4a6f-bfc4-f01f1f103b57",
   "metadata": {},
   "source": [
    "1. In the below elements which of them are values or an expression? eg:- values can be integer or string and expressions will be mathematical operators.\n",
    "\n",
    "*\t    expression\n",
    "'hello'\tValue\n",
    "-87.8\tValue\n",
    "-\t    Expression\n",
    "/\t    Expression\n",
    "+\t\tExpression\n",
    "6\t    Value"
   ]
  },
  {
   "cell_type": "raw",
   "id": "6801a150-78a3-4eae-aec7-7e3f4a1908c8",
   "metadata": {},
   "source": [
    "2. What is the difference between string and variable?\n",
    "\n",
    "Any value that is further used in the program is a variable. For example:\n",
    "Name=”Avani”. \n",
    "Here Name is a variable.\n",
    "String is a data type. In the above example Name variable is of String data type"
   ]
  },
  {
   "cell_type": "raw",
   "id": "2d9476a6-06e7-40d5-98e9-985b02ac22e0",
   "metadata": {},
   "source": [
    "3. Describe three different data types.\n",
    "\n",
    "int-> integer eg value=2\n",
    "String -> eg value=”Hello World”\n",
    "Float-> eg value=2.3"
   ]
  },
  {
   "cell_type": "raw",
   "id": "5801d7f3-591f-4dd7-8fe3-3dd563a73484",
   "metadata": {},
   "source": [
    "4. What is an expression made up of? What do all expressions do?\n",
    "\n",
    "Expression is made up of operators and operands. Expressions give values to the variables."
   ]
  },
  {
   "cell_type": "raw",
   "id": "bf3502b0-f1a7-4331-80c6-592d320ef716",
   "metadata": {},
   "source": [
    "5. This assignment statements, like spam = 10. What is the difference between an expression and a statement?\n",
    "\n",
    "spam =10 is a statement as variables are defined to a particular value in a statement whereas an expression includes operators as well as operand and returns a certain result. For example\n",
    "Result=spam+10\n",
    "Here Result will be an expression as a arithmetic operation is being performed in it."
   ]
  },
  {
   "cell_type": "raw",
   "id": "ebb8a098-0135-4322-846c-1deeb265514b",
   "metadata": {},
   "source": [
    "6. After running the following code, what does the variable bacon contain?\n",
    "\n",
    "bacon = 22\n",
    "bacon + 1\n",
    "bacon is 23. "
   ]
  },
  {
   "cell_type": "code",
   "execution_count": 3,
   "id": "f32f9b3c-4877-4329-bf50-533d07e2c525",
   "metadata": {},
   "outputs": [
    {
     "data": {
      "text/plain": [
       "23"
      ]
     },
     "execution_count": 3,
     "metadata": {},
     "output_type": "execute_result"
    }
   ],
   "source": [
    "bacon = 22\n",
    "bacon + 1"
   ]
  },
  {
   "cell_type": "raw",
   "id": "06fc32fd-a341-4bb2-9679-fb45933ce4f6",
   "metadata": {},
   "source": [
    "7. What should the values of the following two terms be?"
   ]
  },
  {
   "cell_type": "code",
   "execution_count": 6,
   "id": "f514a7c6-c6d3-47af-bbf5-8a086031445f",
   "metadata": {},
   "outputs": [
    {
     "name": "stdout",
     "output_type": "stream",
     "text": [
      "spamspamspam\n",
      "spamspamspam\n"
     ]
    }
   ],
   "source": [
    "print('spam' + 'spamspam')\n",
    "print('spam' * 3)"
   ]
  },
  {
   "cell_type": "raw",
   "id": "758d1122-58f2-46f9-ae97-b004b6e928c9",
   "metadata": {},
   "source": [
    "8. Why is eggs a valid variable name while 100 is invalid?\n",
    "\n",
    "100 will be considered as a value and not as a variable name. This will be considered as a invalid variable name whereas eggs can we considered as a variable name because we can assign a value to eggs but we cannot assign a value 100."
   ]
  },
  {
   "cell_type": "raw",
   "id": "2dad91e0-2b31-4a13-8eef-94d67a9fb985",
   "metadata": {},
   "source": [
    "9. What three functions can be used to get the integer, floating-point number, or string version of a value?\n",
    "\n",
    "int(), float(), str() can be used to get the integer, floating point number or string version of a value. For example:\n",
    "Value=2.3\n",
    "int(Value)\n",
    "float(Value)\n",
    "str(Value)"
   ]
  },
  {
   "cell_type": "raw",
   "id": "66c72faa-15a8-4aac-aa3a-51f087e25273",
   "metadata": {},
   "source": [
    "10. Why does this expression cause an error? How can you fix it?\n",
    "'I have eaten ' + 99 + ' burritos.'\n",
    "Error is because string can be concatenated and here 99 is int value.\n",
    "This can be fixed by: 'I have eaten ' + ‘99’ + ' burritos.'\n"
   ]
  }
 ],
 "metadata": {
  "kernelspec": {
   "display_name": "Python 3 (ipykernel)",
   "language": "python",
   "name": "python3"
  },
  "language_info": {
   "codemirror_mode": {
    "name": "ipython",
    "version": 3
   },
   "file_extension": ".py",
   "mimetype": "text/x-python",
   "name": "python",
   "nbconvert_exporter": "python",
   "pygments_lexer": "ipython3",
   "version": "3.10.6"
  }
 },
 "nbformat": 4,
 "nbformat_minor": 5
}
