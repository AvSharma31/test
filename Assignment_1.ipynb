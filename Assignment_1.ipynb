{
 "cells": [
  {
   "cell_type": "markdown",
   "id": "7db6179c-c111-4f08-825b-47c1fe4369ac",
   "metadata": {},
   "source": [
    "1. In the below elements which of them are values or an expression? eg:- values can be integer or string and expressions will be mathematical operators.\n",
    "\n"
   ]
  },
  {
   "cell_type": "markdown",
   "id": "5b5f5286-c8f0-4f0f-bab7-2144f9059dfc",
   "metadata": {},
   "source": [
    "*\t    mathematical operation, 'hello'-string, -87.8-\tfloat, -\t    operation, /\t    operation, +\t\tmathematical operation, 6\t    int"
   ]
  },
  {
   "cell_type": "markdown",
   "id": "0152a513-80bb-4778-9b5b-ea70e38fd544",
   "metadata": {},
   "source": [
    "2. What is the difference between string and variable?\n",
    "\n",
    "Any value that is further used in the program is a variable. For example:\n",
    "Name=”Avani”. \n",
    "Here Name is a variable.\n",
    "String is a data type. In the above example Name variable is of String data type"
   ]
  },
  {
   "cell_type": "markdown",
   "id": "3c3c7ad2-ec66-44f1-a5e2-f17d64eb9d6c",
   "metadata": {},
   "source": [
    "3. Describe three different data types.\n",
    "\n",
    "int-> integer eg value=2\n",
    "String -> eg value=”Hello World”\n",
    "Float-> eg value=2.3"
   ]
  },
  {
   "cell_type": "markdown",
   "id": "27bca8c5-9386-4f1c-b975-1f6a07edb249",
   "metadata": {},
   "source": [
    "4. What is an expression made up of? What do all expressions do?\n",
    "\n",
    "Expression is made up of operators and operands. Expressions give values to the variables."
   ]
  },
  {
   "cell_type": "markdown",
   "id": "d52f0076-e272-4653-a5eb-947304943891",
   "metadata": {},
   "source": [
    "5. This assignment statements, like spam = 10. What is the difference between an expression and a statement?\n",
    "\n",
    "spam =10 is a statement as variables are defined to a particular value in a statement whereas an expression includes operators as well as operand and returns a certain result. For example\n",
    "Result=spam+10\n",
    "Here Result will be an expression as a arithmetic operation is being performed in it."
   ]
  },
  {
   "cell_type": "markdown",
   "id": "06d4b74a-3780-4b2f-95da-303dd2d437e0",
   "metadata": {},
   "source": [
    "6. After running the following code, what does the variable bacon contain?\n",
    "\n",
    "bacon = 22\n",
    "bacon + 1\n",
    "bacon is 23. "
   ]
  },
  {
   "cell_type": "code",
   "execution_count": 3,
   "id": "f32f9b3c-4877-4329-bf50-533d07e2c525",
   "metadata": {},
   "outputs": [
    {
     "data": {
      "text/plain": [
       "23"
      ]
     },
     "execution_count": 3,
     "metadata": {},
     "output_type": "execute_result"
    }
   ],
   "source": [
    "bacon = 22\n",
    "bacon + 1"
   ]
  },
  {
   "cell_type": "markdown",
   "id": "d636120b-37c9-4374-b57a-b25e7021c25e",
   "metadata": {},
   "source": [
    "7. What should the values of the following two terms be?"
   ]
  },
  {
   "cell_type": "code",
   "execution_count": 6,
   "id": "f514a7c6-c6d3-47af-bbf5-8a086031445f",
   "metadata": {},
   "outputs": [
    {
     "name": "stdout",
     "output_type": "stream",
     "text": [
      "spamspamspam\n",
      "spamspamspam\n"
     ]
    }
   ],
   "source": [
    "print('spam' + 'spamspam')\n",
    "print('spam' * 3)"
   ]
  },
  {
   "cell_type": "markdown",
   "id": "ab44da57-8315-457a-82f3-c262fb9303bd",
   "metadata": {},
   "source": [
    "8. Why is eggs a valid variable name while 100 is invalid?\n",
    "\n",
    "100 will be considered as a value and not as a variable name. This will be considered as a invalid variable name whereas eggs can we considered as a variable name because we can assign a value to eggs but we cannot assign a value 100."
   ]
  },
  {
   "cell_type": "markdown",
   "id": "d810054d-99f6-4fb5-be40-67d7371aae5a",
   "metadata": {},
   "source": [
    "9. What three functions can be used to get the integer, floating-point number, or string version of a value?\n",
    "\n",
    "int(), float(), str() can be used to get the integer, floating point number or string version of a value. For example:\n",
    "Value=2.3\n",
    "int(Value)\n",
    "float(Value)\n",
    "str(Value)"
   ]
  },
  {
   "cell_type": "markdown",
   "id": "872cb7b0-3086-455e-b014-45c0b987ea30",
   "metadata": {},
   "source": [
    "10. Why does this expression cause an error? How can you fix it?\n",
    "'I have eaten ' + 99 + ' burritos.'\n",
    "Error is because string can be concatenated and here 99 is int value.\n",
    "This can be fixed by: 'I have eaten ' + ‘99’ + ' burritos.'\n"
   ]
  },
  {
   "cell_type": "code",
   "execution_count": null,
   "id": "eb3fd51a-593a-4cdb-95ff-8c12f8d97272",
   "metadata": {},
   "outputs": [],
   "source": []
  }
 ],
 "metadata": {
  "kernelspec": {
   "display_name": "Python 3 (ipykernel)",
   "language": "python",
   "name": "python3"
  },
  "language_info": {
   "codemirror_mode": {
    "name": "ipython",
    "version": 3
   },
   "file_extension": ".py",
   "mimetype": "text/x-python",
   "name": "python",
   "nbconvert_exporter": "python",
   "pygments_lexer": "ipython3",
   "version": "3.10.6"
  }
 },
 "nbformat": 4,
 "nbformat_minor": 5
}
