{
 "cells": [
  {
   "cell_type": "markdown",
   "id": "6f0baa3d-5772-466e-8b8f-179cbfef2c14",
   "metadata": {},
   "source": [
    "1. What exactly is []?"
   ]
  },
  {
   "cell_type": "markdown",
   "id": "50fd2a62-0665-43ee-a908-52a6b8c0b607",
   "metadata": {},
   "source": [
    "Ans. This is how we define an empty list."
   ]
  },
  {
   "cell_type": "markdown",
   "id": "66d1097e-e38b-4b2d-b457-e58048353db8",
   "metadata": {},
   "source": [
    "2. In a list of values stored in a variable called spam, how would you assign the value 'hello' as the third value? (Assume [2, 4, 6, 8, 10] are in spam.)"
   ]
  },
  {
   "cell_type": "code",
   "execution_count": 1,
   "id": "38856e47-7a81-4d1e-aa3b-767059fcf2fb",
   "metadata": {},
   "outputs": [
    {
     "data": {
      "text/plain": [
       "[2, 4, 'hello', 6, 8, 10]"
      ]
     },
     "execution_count": 1,
     "metadata": {},
     "output_type": "execute_result"
    }
   ],
   "source": [
    "spam = [2,4,6,8,10]\n",
    "spam.insert(2,'hello')\n",
    "spam"
   ]
  },
  {
   "cell_type": "markdown",
   "id": "6c30bd92-213b-4775-b015-821d299114fd",
   "metadata": {},
   "source": [
    "Let's pretend the spam includes the list ['a', 'b', 'c', 'd'] for the next three queries."
   ]
  },
  {
   "cell_type": "markdown",
   "id": "cdfc9b49-94e7-43e4-ad8c-7f11e6ddfd6d",
   "metadata": {},
   "source": [
    "3. What is the value of spam[int(int('3' * 2) / 11)]?"
   ]
  },
  {
   "cell_type": "code",
   "execution_count": 2,
   "id": "9de2e52b-e14a-4188-81bb-64e9e6db2f91",
   "metadata": {},
   "outputs": [],
   "source": [
    "spam = ['a', 'b', 'c', 'd']"
   ]
  },
  {
   "cell_type": "code",
   "execution_count": 3,
   "id": "8741504e-4701-4903-9a89-7b0340999a97",
   "metadata": {},
   "outputs": [
    {
     "data": {
      "text/plain": [
       "'d'"
      ]
     },
     "execution_count": 3,
     "metadata": {},
     "output_type": "execute_result"
    }
   ],
   "source": [
    "spam[int(int('3' * 2) / 11)]"
   ]
  },
  {
   "cell_type": "markdown",
   "id": "2f407044-25e0-430b-a956-fc6468c6e719",
   "metadata": {},
   "source": [
    "4. What is the value of spam[-1]?"
   ]
  },
  {
   "cell_type": "code",
   "execution_count": 4,
   "id": "9aa15321-65f9-4bbb-a52a-061d25dde811",
   "metadata": {},
   "outputs": [
    {
     "data": {
      "text/plain": [
       "'d'"
      ]
     },
     "execution_count": 4,
     "metadata": {},
     "output_type": "execute_result"
    }
   ],
   "source": [
    "spam[-1]"
   ]
  },
  {
   "cell_type": "markdown",
   "id": "a42da91e-c136-43c1-a224-99605ca91d99",
   "metadata": {},
   "source": [
    "5. What is the value of spam[:2]?"
   ]
  },
  {
   "cell_type": "code",
   "execution_count": 5,
   "id": "b4dfe994-476f-4305-a33e-97f464c5afc4",
   "metadata": {},
   "outputs": [
    {
     "data": {
      "text/plain": [
       "['a', 'b']"
      ]
     },
     "execution_count": 5,
     "metadata": {},
     "output_type": "execute_result"
    }
   ],
   "source": [
    "spam[:2]"
   ]
  },
  {
   "cell_type": "markdown",
   "id": "03ef7370-8d22-4efa-9020-b143da295a52",
   "metadata": {},
   "source": [
    "Let's pretend bacon has the list [3.14, 'cat,' 11, 'cat,' True] for the next three questions."
   ]
  },
  {
   "cell_type": "code",
   "execution_count": 13,
   "id": "d4ae6b88-262a-41a0-b269-fc8d362f8b6c",
   "metadata": {},
   "outputs": [],
   "source": [
    "bacon = [3.14, 'cat', 11, 'cat', True]"
   ]
  },
  {
   "cell_type": "markdown",
   "id": "a7c3191a-1bcc-448a-8b77-1815368aa6d0",
   "metadata": {},
   "source": [
    "6. What is the value of bacon.index('cat')?"
   ]
  },
  {
   "cell_type": "code",
   "execution_count": 14,
   "id": "217e8b43-0061-4858-907a-ccf7cd3c35f3",
   "metadata": {},
   "outputs": [
    {
     "data": {
      "text/plain": [
       "1"
      ]
     },
     "execution_count": 14,
     "metadata": {},
     "output_type": "execute_result"
    }
   ],
   "source": [
    "bacon.index('cat') #cat has index 1"
   ]
  },
  {
   "cell_type": "markdown",
   "id": "b0d7be5a-3997-4fa3-9feb-004cc7429dc8",
   "metadata": {},
   "source": [
    "7. How does bacon.append(99) change the look of the list value in bacon?"
   ]
  },
  {
   "cell_type": "code",
   "execution_count": 15,
   "id": "c9f3661c-e753-4702-9b03-b0f58dc1761a",
   "metadata": {},
   "outputs": [
    {
     "name": "stdout",
     "output_type": "stream",
     "text": [
      "[3.14, 'cat', 11, 'cat', True, 99]\n"
     ]
    }
   ],
   "source": [
    "bacon.append(99)\n",
    "print(bacon) #adding 99 inside list"
   ]
  },
  {
   "cell_type": "markdown",
   "id": "da1639dd-ecdf-4621-b915-66d2e3063689",
   "metadata": {},
   "source": [
    "8. How does bacon.remove('cat') change the look of the list in bacon?"
   ]
  },
  {
   "cell_type": "code",
   "execution_count": 17,
   "id": "0cd6d52f-6e45-4cd3-bec7-bcf1045e0934",
   "metadata": {},
   "outputs": [],
   "source": [
    "bacon.remove('cat')"
   ]
  },
  {
   "cell_type": "code",
   "execution_count": 18,
   "id": "a221300c-e12f-4351-80b4-265f15ba5054",
   "metadata": {},
   "outputs": [
    {
     "name": "stdout",
     "output_type": "stream",
     "text": [
      "[3.14, 11, 'cat', True, 99]\n"
     ]
    }
   ],
   "source": [
    "print(bacon)"
   ]
  },
  {
   "cell_type": "markdown",
   "id": "d888dcbd-8f3d-465a-9b26-b24b8b39f756",
   "metadata": {},
   "source": [
    "9. What are the list concatenation and list replication operators?"
   ]
  },
  {
   "cell_type": "markdown",
   "id": "f2d450ae-725b-4890-8318-a82f66b6a6b2",
   "metadata": {},
   "source": [
    "Ans. list concatenation-> + and .extend()\n",
    "list replication -> *\n",
    "For example:"
   ]
  },
  {
   "cell_type": "code",
   "execution_count": 19,
   "id": "ae331604-0cd8-4419-a00b-eed5166a0b78",
   "metadata": {},
   "outputs": [],
   "source": [
    "bacon = [3.14, 'cat', 11, 'cat', True]"
   ]
  },
  {
   "cell_type": "code",
   "execution_count": 20,
   "id": "c2d4b60a-726e-4421-ba5a-e2652d40c05f",
   "metadata": {},
   "outputs": [],
   "source": [
    "spam = ['a', 'b', 'c', 'd']"
   ]
  },
  {
   "cell_type": "code",
   "execution_count": 25,
   "id": "10540f5a-208f-4eef-8d0a-ef103dde9997",
   "metadata": {},
   "outputs": [
    {
     "data": {
      "text/plain": [
       "[3.14, 'cat', 11, 'cat', True, 'a', 'b', 'c', 'd']"
      ]
     },
     "execution_count": 25,
     "metadata": {},
     "output_type": "execute_result"
    }
   ],
   "source": [
    "bacon+spam"
   ]
  },
  {
   "cell_type": "code",
   "execution_count": 28,
   "id": "a9cf74b7-7b69-48d8-9f1f-93c60b1c05b4",
   "metadata": {},
   "outputs": [
    {
     "name": "stdout",
     "output_type": "stream",
     "text": [
      "[3.14, 'cat', 11, 'cat', True, 'a', 'b', 'c', 'd', 'a', 'b', 'c', 'd', 'a', 'b', 'c', 'd']\n"
     ]
    }
   ],
   "source": [
    "bacon.extend(spam)\n",
    "print(bacon)"
   ]
  },
  {
   "cell_type": "code",
   "execution_count": 29,
   "id": "02596ca7-78ea-4500-bc2d-d2e0e73b1c04",
   "metadata": {},
   "outputs": [
    {
     "name": "stdout",
     "output_type": "stream",
     "text": [
      "[3.14, 'cat', 11, 'cat', True, 'a', 'b', 'c', 'd', 'a', 'b', 'c', 'd', 'a', 'b', 'c', 'd']\n"
     ]
    }
   ],
   "source": [
    "bacon *2\n",
    "print(bacon)"
   ]
  },
  {
   "cell_type": "markdown",
   "id": "47637925-a404-47b4-930c-ba96d45b6748",
   "metadata": {},
   "source": [
    "10. What is difference between the list methods append() and insert()?"
   ]
  },
  {
   "cell_type": "markdown",
   "id": "8874d4f0-ffd5-4b78-bb68-d532e24d206f",
   "metadata": {},
   "source": [
    "Ans. append adds another value inside list at the end of the list whereas insert() is used to insert a value at a particular index in the list."
   ]
  },
  {
   "cell_type": "markdown",
   "id": "0f2ca426-ae51-46ba-ae7b-200742af3945",
   "metadata": {},
   "source": [
    "11. What are the two methods for removing items from a list?"
   ]
  },
  {
   "cell_type": "markdown",
   "id": "3aca1e8d-52df-4ee0-9be2-389ebca19e4d",
   "metadata": {},
   "source": [
    "Ans. remove() and pop, del can be used for removing items from a list. For example:"
   ]
  },
  {
   "cell_type": "code",
   "execution_count": 30,
   "id": "a67ff66b-8c37-4186-b2e3-caa2d52c6a62",
   "metadata": {},
   "outputs": [
    {
     "name": "stdout",
     "output_type": "stream",
     "text": [
      "['Apple']\n"
     ]
    }
   ],
   "source": [
    "list=[\"Apple\",\"Banana\"]\n",
    "list.remove(\"Banana\")\n",
    "print(list)"
   ]
  },
  {
   "cell_type": "code",
   "execution_count": 31,
   "id": "b322df29-1103-4d4e-a0fb-cb58764e50e3",
   "metadata": {},
   "outputs": [
    {
     "name": "stdout",
     "output_type": "stream",
     "text": [
      "['Apple']\n"
     ]
    }
   ],
   "source": [
    "list=[\"Apple\",\"Banana\"]\n",
    "list.pop(1)\n",
    "print(list)"
   ]
  },
  {
   "cell_type": "code",
   "execution_count": 32,
   "id": "11a3d05b-b817-4c90-9d33-6194efdfcc3b",
   "metadata": {},
   "outputs": [
    {
     "name": "stdout",
     "output_type": "stream",
     "text": [
      "['Apple']\n"
     ]
    }
   ],
   "source": [
    "list=[\"Apple\",\"Banana\"]\n",
    "del list[1]\n",
    "print(list)"
   ]
  },
  {
   "cell_type": "markdown",
   "id": "fd522548-d0ff-4c06-b107-ba4f412df51e",
   "metadata": {},
   "source": [
    "12. Describe how list values and string values are identical."
   ]
  },
  {
   "cell_type": "markdown",
   "id": "23f549cb-34a6-44d1-a4ac-0a20574c630f",
   "metadata": {},
   "source": [
    "Ans. both are ordered collection of characters, \n",
    "both have lengths, \n",
    "can access items in a string and list by square brackets"
   ]
  },
  {
   "cell_type": "markdown",
   "id": "11220c2e-d74d-4bd3-814f-8da1087a6454",
   "metadata": {},
   "source": [
    "13. What's the difference between tuples and lists?"
   ]
  },
  {
   "cell_type": "markdown",
   "id": "e98eebdf-b1f7-457a-b583-0aacfdd117a4",
   "metadata": {},
   "source": [
    "Ans. Tuples are immutable but lists are mutable.\n",
    "we can join tuples into a third tuple not an existing one but in list we can concatenate two lists and make changes to existing list.\n",
    "lists are stored in [] but tuples are stored in ()\n"
   ]
  },
  {
   "cell_type": "markdown",
   "id": "b6cca3f8-ccc0-4521-a79c-03821884d822",
   "metadata": {},
   "source": [
    "14. How do you type a tuple value that only contains the integer 42?"
   ]
  },
  {
   "cell_type": "code",
   "execution_count": 33,
   "id": "232be144-c158-4599-b2e7-88f1b0e08df7",
   "metadata": {},
   "outputs": [],
   "source": [
    "tup = (42)"
   ]
  },
  {
   "cell_type": "code",
   "execution_count": 34,
   "id": "33d02656-058f-4641-be04-c85109233ce0",
   "metadata": {},
   "outputs": [
    {
     "data": {
      "text/plain": [
       "42"
      ]
     },
     "execution_count": 34,
     "metadata": {},
     "output_type": "execute_result"
    }
   ],
   "source": [
    "tup"
   ]
  },
  {
   "cell_type": "markdown",
   "id": "44172460-72a9-4260-91b2-d926f21fb439",
   "metadata": {},
   "source": [
    "15. How do you get a list value's tuple form? How do you get a tuple value's list form?"
   ]
  },
  {
   "cell_type": "code",
   "execution_count": 39,
   "id": "601a8858-c3c8-4fdc-84e2-3b08f0efd685",
   "metadata": {},
   "outputs": [
    {
     "data": {
      "text/plain": [
       "('Apple', 'Banana')"
      ]
     },
     "execution_count": 39,
     "metadata": {},
     "output_type": "execute_result"
    }
   ],
   "source": [
    "list=[\"Apple\",\"Banana\"] #converting list to tuple\n",
    "tup = tuple(list)\n",
    "tup"
   ]
  },
  {
   "cell_type": "code",
   "execution_count": 53,
   "id": "0c7931ae-12c6-4e38-b5d7-8627fda49dd8",
   "metadata": {},
   "outputs": [],
   "source": [
    "tupe=(\"Apple\",\"Banana\") #converting tuple to list"
   ]
  },
  {
   "cell_type": "code",
   "execution_count": 54,
   "id": "3395574f-4ea1-4bc6-a34f-e9efc8a2b365",
   "metadata": {},
   "outputs": [
    {
     "name": "stdout",
     "output_type": "stream",
     "text": [
      "['Apple', 'Banana']\n"
     ]
    }
   ],
   "source": [
    "ls=[]\n",
    "for i in tupe:\n",
    "    ls.append(i)\n",
    "print(ls)"
   ]
  },
  {
   "cell_type": "markdown",
   "id": "b5384c06-5534-4dcd-8b79-8cba69ae7162",
   "metadata": {},
   "source": [
    "16. Variables that \"contain\" list values are not necessarily lists themselves. Instead, what do they contain?"
   ]
  },
  {
   "cell_type": "markdown",
   "id": "3e443b55-404a-431f-b01b-447955d9ba7f",
   "metadata": {},
   "source": [
    "Ans. They are reference to list values."
   ]
  },
  {
   "cell_type": "markdown",
   "id": "50ca863e-995e-4391-bd9c-c7c90917cd60",
   "metadata": {},
   "source": [
    "17. How do you distinguish between copy.copy() and copy.deepcopy()?"
   ]
  },
  {
   "cell_type": "markdown",
   "id": "00e25fd2-00ba-4af7-b2e2-3e18de0a4720",
   "metadata": {},
   "source": [
    "copy.copy() creates a shallow copy of the list which means that copies new object which stores reference of original elements.\n",
    "copy.deepcopy() creates a deep copy of the list which means that if we make changes to one list then the changes are present in that list and not the copy of the list as both point to different references.\n"
   ]
  }
 ],
 "metadata": {
  "kernelspec": {
   "display_name": "Python 3 (ipykernel)",
   "language": "python",
   "name": "python3"
  },
  "language_info": {
   "codemirror_mode": {
    "name": "ipython",
    "version": 3
   },
   "file_extension": ".py",
   "mimetype": "text/x-python",
   "name": "python",
   "nbconvert_exporter": "python",
   "pygments_lexer": "ipython3",
   "version": "3.10.6"
  }
 },
 "nbformat": 4,
 "nbformat_minor": 5
}
