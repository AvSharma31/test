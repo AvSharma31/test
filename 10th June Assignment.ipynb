{
 "cells": [
  {
   "cell_type": "markdown",
   "id": "f2cf39f4-8496-45a4-96a6-fab87263ff82",
   "metadata": {},
   "source": [
    "1. In Python, what is the difference between a built-in function and a user-defined function? Provide an\n",
    "example of each."
   ]
  },
  {
   "cell_type": "markdown",
   "id": "2aa61423-1f10-4c77-b1d5-75a3c96ac898",
   "metadata": {},
   "source": [
    "Built in function is existing function present in python library. For example "
   ]
  },
  {
   "cell_type": "code",
   "execution_count": 3,
   "id": "03f2009b-b82e-460d-a04e-097dd75616e3",
   "metadata": {},
   "outputs": [
    {
     "data": {
      "text/plain": [
       "2.0"
      ]
     },
     "execution_count": 3,
     "metadata": {},
     "output_type": "execute_result"
    }
   ],
   "source": [
    "import math\n",
    "math.sqrt(4) # sqrt is a built in function present in math library"
   ]
  },
  {
   "cell_type": "markdown",
   "id": "4ff2ea60-b750-4d21-9be4-4a4ee70b0652",
   "metadata": {},
   "source": [
    "user defined function is. Function created by any user. For example:"
   ]
  },
  {
   "cell_type": "code",
   "execution_count": 4,
   "id": "526a6cbc-92e7-41b2-b89e-84247c5c4550",
   "metadata": {},
   "outputs": [
    {
     "name": "stdout",
     "output_type": "stream",
     "text": [
      "This is user defined function\n"
     ]
    }
   ],
   "source": [
    "def MyFunc():\n",
    "    print(\"This is user defined function\")\n",
    "\n",
    "MyFunc()"
   ]
  },
  {
   "cell_type": "markdown",
   "id": "5d8a3b99-b465-4c18-a6ee-0dcbfc2557a0",
   "metadata": {},
   "source": [
    "2. How can you pass arguments to a function in Python? Explain the difference between positional\n",
    "arguments and keyword arguments."
   ]
  },
  {
   "cell_type": "code",
   "execution_count": null,
   "id": "1c8ba9a3-6c49-46a8-9b91-09d0fe4e252e",
   "metadata": {},
   "outputs": [],
   "source": [
    "def MyNewFunc(name): # name is a argument passed in the function\n",
    "    print(f\"Hello {name}\")\n",
    "    "
   ]
  },
  {
   "cell_type": "markdown",
   "id": "85f18197-a3a6-4389-a514-4ffe1bd5c9d3",
   "metadata": {},
   "source": [
    "positional arguments are where we just define the function argument value and keyword argument is where we defined the default value of the argument present in the function. For example:"
   ]
  },
  {
   "cell_type": "code",
   "execution_count": 16,
   "id": "a6366977-87b9-41c2-9925-98a470196bf5",
   "metadata": {},
   "outputs": [
    {
     "data": {
      "text/plain": [
       "4"
      ]
     },
     "execution_count": 16,
     "metadata": {},
     "output_type": "execute_result"
    }
   ],
   "source": [
    "def add(num=1,num2=2):\n",
    "    return num + num2\n",
    "\n",
    "add(2)"
   ]
  },
  {
   "cell_type": "markdown",
   "id": "4a1a45ca-c3a5-4caf-80fa-175fea586ce4",
   "metadata": {},
   "source": [
    "3. What is the purpose of the return statement in a function? Can a function have multiple return\n",
    "statements? Explain with an example.\n"
   ]
  },
  {
   "cell_type": "markdown",
   "id": "57cb1906-27fd-436c-90e4-eb18d59f3fcc",
   "metadata": {},
   "source": [
    "return statement in a function is used if we want to return value from the function which can we used inside the program in other places as well. A function can have multiple values returned but not multiple statements. For example:\n"
   ]
  },
  {
   "cell_type": "code",
   "execution_count": 2,
   "id": "cd0ff61c-e4ba-4e56-89c4-816343d89a55",
   "metadata": {},
   "outputs": [
    {
     "name": "stdout",
     "output_type": "stream",
     "text": [
      "Adding 5 + 1 = 6\n"
     ]
    }
   ],
   "source": [
    "def add(a,b):\n",
    "    return a+b\n",
    "a=5\n",
    "b=1\n",
    "add = add(a,b)\n",
    "print(f\"Adding {a} + {b} = {add}\")"
   ]
  },
  {
   "cell_type": "markdown",
   "id": "b72e2d41-9bc8-47ab-93c7-43b1872c9461",
   "metadata": {},
   "source": [
    "4. What are lambda functions in Python? How are they different from regular functions? Provide an\n",
    "example where a lambda function can be useful."
   ]
  },
  {
   "cell_type": "markdown",
   "id": "1dbfad14-9fd0-4cae-b05d-480627f8e681",
   "metadata": {},
   "source": [
    "function is defined withour writing def before the function name but in case of regular function we need to write def before the function. lambda functions are a short form of writing a function with minimum lines of code. for simple codes it can be used but for complex coding its not used."
   ]
  },
  {
   "cell_type": "code",
   "execution_count": 14,
   "id": "1ebc7429-d881-40bd-9690-ba6616a3e7ae",
   "metadata": {},
   "outputs": [
    {
     "name": "stdout",
     "output_type": "stream",
     "text": [
      "10\n"
     ]
    }
   ],
   "source": [
    "add = lambda x,y:x+y\n",
    "print(add(6,4))"
   ]
  },
  {
   "cell_type": "markdown",
   "id": "5e386d86-5fd5-4fdc-b93c-ee188f475fb6",
   "metadata": {},
   "source": [
    "5. How does the concept of \"scope\" apply to functions in Python? Explain the difference between local\n",
    "scope and global scope."
   ]
  },
  {
   "cell_type": "code",
   "execution_count": 6,
   "id": "e1daf41a-4874-4b93-99df-1e2cd449db26",
   "metadata": {},
   "outputs": [
    {
     "name": "stdout",
     "output_type": "stream",
     "text": [
      "300\n"
     ]
    }
   ],
   "source": [
    "def func(): # this func has global scope\n",
    "    x = 300\n",
    "    def new_func(): # this function being called in another function so this has local scope and\n",
    "        print(x)    # we cannot call this function outside\n",
    "    new_func()\n",
    "\n",
    "func()"
   ]
  },
  {
   "cell_type": "markdown",
   "id": "bca3578e-2aff-442f-8f66-9b9a8cc2aa51",
   "metadata": {},
   "source": [
    "local scope is in which function is defined in another function and cannot be called outside.\n",
    "and global scope of a function means function can be called from anywhere."
   ]
  },
  {
   "cell_type": "markdown",
   "id": "06ba88e9-ae21-4062-975d-89d3a564a5d8",
   "metadata": {},
   "source": [
    "6. How can you use the \"return\" statement in a Python function to return multiple values?"
   ]
  },
  {
   "cell_type": "code",
   "execution_count": 13,
   "id": "43719280-00f9-4cb0-b72b-6c2ca3bb853d",
   "metadata": {},
   "outputs": [
    {
     "data": {
      "text/plain": [
       "('abc', 123)"
      ]
     },
     "execution_count": 13,
     "metadata": {},
     "output_type": "execute_result"
    }
   ],
   "source": [
    "def funcn():\n",
    "    \n",
    "    return 'abc',123\n",
    "\n",
    "funcn()"
   ]
  },
  {
   "cell_type": "markdown",
   "id": "a5cd05fd-089f-45fb-a607-576b09f8468b",
   "metadata": {},
   "source": [
    "7. What is the difference between the \"pass by value\" and \"pass by reference\" concepts when it\n",
    "comes to function arguments in Python?"
   ]
  },
  {
   "cell_type": "markdown",
   "id": "98fc482a-ef71-4259-9068-983ef167650c",
   "metadata": {},
   "source": [
    "pass by reference means arguments are passed inside function, and an operation is done on the variable and updated value is returned after the function.\n",
    "pass by value, value is directly passed in function and operation is performed and value is stored which is copy of the argument passed in the function."
   ]
  },
  {
   "cell_type": "code",
   "execution_count": 10,
   "id": "86f55421-dcd8-4cfb-88d8-879c86f07a68",
   "metadata": {},
   "outputs": [
    {
     "name": "stdout",
     "output_type": "stream",
     "text": [
      "Pass by reference:\n",
      "Inside function [1, 2, 3, 4, [5, 6, 7]]\n",
      "Outside function [1, 2, 3, 4, [5, 6, 7]]\n",
      "\n",
      "Pass by value: \n",
      "Inside function [5, 6, 7]\n",
      "Outside function [23, 65, 75]\n"
     ]
    }
   ],
   "source": [
    "# For example:pass by reference\n",
    "\n",
    "lst_1 = [1,2,3,4]\n",
    "print(\"Pass by reference:\")\n",
    "def add_pass_by_reference(lst_1):\n",
    "    lst_1.append([5,6,7])\n",
    "    print(f\"Inside function {lst_1}\")\n",
    "    return\n",
    "\n",
    "add_pass_by_reference(lst_1)\n",
    "print(f\"Outside function {lst_1}\")\n",
    "\n",
    "# For example:pass by value\n",
    "lst_2 = [23,65,75]\n",
    "print(\"\\nPass by value: \")\n",
    "def add_pass_by_value(lst_2):\n",
    "    lst_2 = [5,6,7]\n",
    "    print(f\"Inside function {lst_2}\")\n",
    "\n",
    "add_pass_by_value(lst_2)\n",
    "print(f\"Outside function {lst_2}\")"
   ]
  },
  {
   "cell_type": "markdown",
   "id": "20321ed6-173e-46b3-92c3-4b5e18c7f44d",
   "metadata": {},
   "source": [
    "8. Create a function that can intake integer or decimal value and do following operations:\n",
    "a. Logarithmic function (log x)\n",
    "b. Exponential function (exp(x))\n",
    "c. Power function with base 2 (2x)\n",
    "d. Square root"
   ]
  },
  {
   "cell_type": "code",
   "execution_count": 11,
   "id": "bd091c0e-08c4-41f0-b5a7-7170632da75b",
   "metadata": {},
   "outputs": [
    {
     "data": {
      "text/plain": [
       "{'Exponential function value: 13256519.14046355',\n",
       " 'Logarithmic function value: 2.797281334830153',\n",
       " 'Power function with base 2 value: 32.8',\n",
       " 'Square root value: 4.049691346263317'}"
      ]
     },
     "execution_count": 11,
     "metadata": {},
     "output_type": "execute_result"
    }
   ],
   "source": [
    "import math\n",
    "def math_func(x):\n",
    "    return {f\"Logarithmic function value: {math.log(x)}\",\n",
    "           f\"Exponential function value: {math.exp(x)}\",\n",
    "           f\"Power function with base 2 value: {2*x}\",\n",
    "           f\"Square root value: {math.sqrt(x)}\"}\n",
    "\n",
    "math_func(16.4)"
   ]
  },
  {
   "cell_type": "markdown",
   "id": "b304f2fb-c207-42eb-8279-7ecbf4fae25e",
   "metadata": {},
   "source": [
    "9. Create a function that takes a full name as an argument and returns first name and last name."
   ]
  },
  {
   "cell_type": "code",
   "execution_count": 9,
   "id": "8534038d-bfba-4935-95ab-aeb08e49c1f9",
   "metadata": {},
   "outputs": [
    {
     "data": {
      "text/plain": [
       "('Avani', 'Sharma')"
      ]
     },
     "execution_count": 9,
     "metadata": {},
     "output_type": "execute_result"
    }
   ],
   "source": [
    "def FullName(fullName):\n",
    "    a = fullName.split(' ')\n",
    "    return a[0],a[1]\n",
    "\n",
    "FullName(\"Avani Sharma\")"
   ]
  }
 ],
 "metadata": {
  "kernelspec": {
   "display_name": "Python 3 (ipykernel)",
   "language": "python",
   "name": "python3"
  },
  "language_info": {
   "codemirror_mode": {
    "name": "ipython",
    "version": 3
   },
   "file_extension": ".py",
   "mimetype": "text/x-python",
   "name": "python",
   "nbconvert_exporter": "python",
   "pygments_lexer": "ipython3",
   "version": "3.10.6"
  }
 },
 "nbformat": 4,
 "nbformat_minor": 5
}
