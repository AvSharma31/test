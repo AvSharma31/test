{
 "cells": [
  {
   "cell_type": "markdown",
   "metadata": {},
   "source": [
    "1. Explain what inheritance is in object-oriented programming and why it is used.\n",
    "\n",
    "It allows a new class to inherit attributes and behaviors from an existing class. The subclass can then extend or override the inherited characteristics, providing a way to reuse and build upon the functionality of the base class.\n",
    "\n",
    "Inheritance promotes code reusability by allowing the reuse of existing code from the base class.\n",
    "Common functionality is implemented in the base class, and subclasses only need to implement or customize what is specific to them.\n",
    "\n",
    "Inheritance contributes to polymorphism, where objects of the base class can be replaced with objects of a derived class without affecting the correctness of the program.\n",
    "\n",
    "class BaseClass:\n",
    "    # Attributes and methods\n",
    "\n",
    "class SubClass(BaseClass):\n",
    "    # Additional or overridden attributes and methods"
   ]
  },
  {
   "cell_type": "markdown",
   "metadata": {},
   "source": [
    "2. Discuss the concept of single inheritance and multiple inheritance, highlighting their\n",
    "differences and advantages.\n",
    "\n",
    "Single Inheritance:\n",
    "\n",
    "In single inheritance a class can inherit from only one base class. This means that a subclass can extend or override the attributes and methods of a single superclass."
   ]
  },
  {
   "cell_type": "code",
   "execution_count": 2,
   "metadata": {},
   "outputs": [
    {
     "data": {
      "text/plain": [
       "'Barks'"
      ]
     },
     "execution_count": 2,
     "metadata": {},
     "output_type": "execute_result"
    }
   ],
   "source": [
    "#Single Inheritance\n",
    "class Animal:\n",
    "    def speak(self):\n",
    "        return \"Animal sound\"\n",
    "\n",
    "class Dog(Animal):\n",
    "    def bark(self):\n",
    "        return \"Barks\"\n",
    "\n",
    "dog1 = Dog()\n",
    "dog1.speak()\n",
    "dog1.bark()"
   ]
  },
  {
   "cell_type": "markdown",
   "metadata": {},
   "source": [
    "Multiple Inheritance:\n",
    "\n",
    "In multiple inheritance, a class can inherit from more than one base class. This means that a subclass can have attributes and methods from multiple superclasses. "
   ]
  },
  {
   "cell_type": "code",
   "execution_count": 3,
   "metadata": {},
   "outputs": [],
   "source": [
    "#Multiple Inheritance\n",
    "class Animal:\n",
    "    def speak(self):\n",
    "        return \"Animal sound\"\n",
    "    \n",
    "class Pet:\n",
    "    def cuddle(self):\n",
    "        return \"Cuddling\"\n",
    "\n",
    "class Dog(Animal,Pet):\n",
    "    def bark(self):\n",
    "        return \"Barks\"\n",
    "    "
   ]
  },
  {
   "cell_type": "markdown",
   "metadata": {},
   "source": [
    "3. Explain the terms \"base class\" and \"derived class\" in the context of inheritance.\n",
    "\n",
    "Base class is the parent class whose attributes and methods are inherited by another class .\n",
    "Derived class is the child class that inherits attributes and methods from the base or parent class. It can override or extend the functionality of the base class by adding its own specific features. It can have additional attributes and methods beyond what is has inherited."
   ]
  },
  {
   "cell_type": "markdown",
   "metadata": {},
   "source": [
    "4. What is the significance of the \"protected\" access modifier in inheritance? How does\n",
    "it differ from \"private\" and \"public\" modifiers?\n",
    "\n",
    "Access modifiers define the visiblity of the variable or methods outside the class.\n",
    "\n",
    "Public\n",
    "Members declared as public are accessible from any part of the program, both within the class and from external code.\n",
    "\n",
    "Private\n",
    "Members declared as private are accessible only within the class that defines them.\n",
    "They are indicated using double underscore (__) as prefix.\n",
    "\n",
    "Protected\n",
    "If a particular method or variable is protected it can be used outside the class in all the subclasses.\n",
    "They are indicated using single underscore (_) as prefix.\n",
    "\n",
    "Significance of Protected Access Modifier in Inheritance:\n",
    "\n",
    "Inheritance and Code Reusability: The protected access modifier is useful in the context of inheritance. When a class member is marked as protected, it can be inherited by subclasses, promoting code reuse.\n",
    "\n",
    "Subclass Visibility: Protected members can be accessed within subclasses, allowing derived classes to use or extend the functionality of the base class."
   ]
  },
  {
   "cell_type": "markdown",
   "metadata": {},
   "source": [
    "5. What is the purpose of the \"super\" keyword in inheritance? Provide an example.\n",
    "\n",
    "super keyword is used in a dervied class method so that we can directly inherit all the functionality of the base class and add any additional function specific to the subclass.\n",
    "Example:"
   ]
  },
  {
   "cell_type": "code",
   "execution_count": 5,
   "metadata": {},
   "outputs": [
    {
     "data": {
      "text/plain": [
       "'Generic animal sound and Woof!'"
      ]
     },
     "execution_count": 5,
     "metadata": {},
     "output_type": "execute_result"
    }
   ],
   "source": [
    "class Animal:\n",
    "    def speak(self):\n",
    "        return \"Generic animal sound\"\n",
    "\n",
    "class Dog(Animal):\n",
    "    def speak(self):\n",
    "        parent_speak = super().speak()\n",
    "        return f\"{parent_speak} and Woof!\"\n",
    "\n",
    "# Creating an instance of the Dog class\n",
    "my_dog = Dog()\n",
    "my_dog.speak()"
   ]
  },
  {
   "cell_type": "markdown",
   "metadata": {},
   "source": [
    "6. Create a base class called \"Vehicle\" with attributes like \"make\", \"model\", and \"year\".\n",
    "Then, create a derived class called \"Car\" that inherits from \"Vehicle\" and adds an\n",
    "attribute called \"fuel_type\". Implement appropriate methods in both classes."
   ]
  },
  {
   "cell_type": "code",
   "execution_count": 7,
   "metadata": {},
   "outputs": [
    {
     "data": {
      "text/plain": [
       "'Toyota XYZ 2022 Fuel Type: Gasoline'"
      ]
     },
     "execution_count": 7,
     "metadata": {},
     "output_type": "execute_result"
    }
   ],
   "source": [
    "class Vehicle:\n",
    "    def __init__(self,make,model,year):\n",
    "        self.make = make\n",
    "        self.model = model\n",
    "        self.year = year\n",
    "\n",
    "    def display_info(self):\n",
    "        return f\"{self.make} {self.model} {self.year}\"    \n",
    "\n",
    "class Car(Vehicle):\n",
    "    def __init__(self,make,model,year,fuel_type):\n",
    "        super().__init__(make,model,year)\n",
    "        self.fuel_type = fuel_type\n",
    "\n",
    "    def display_info(self):\n",
    "        vehicle_info = super().display_info()\n",
    "        return f\"{vehicle_info} Fuel Type: {self.fuel_type}\"\n",
    "    \n",
    "\n",
    "car1 = Car('Toyota','XYZ',2022,\"Gasoline\")\n",
    "car1.display_info()\n"
   ]
  },
  {
   "cell_type": "markdown",
   "metadata": {},
   "source": [
    "7. Create a base class called \"Employee\" with attributes like \"name\" and \"salary.\"\n",
    "Derive two classes, \"Manager\" and \"Developer,\" from \"Employee.\" Add an additional\n",
    "attribute called \"department\" for the \"Manager\" class and \"programming_language\"\n",
    "for the \"Developer\" class."
   ]
  },
  {
   "cell_type": "code",
   "execution_count": 12,
   "metadata": {},
   "outputs": [
    {
     "name": "stdout",
     "output_type": "stream",
     "text": [
      "Avani 200000 and department: IT\n",
      "Avani 100000 and programming_language: Python\n"
     ]
    }
   ],
   "source": [
    "class Employee:\n",
    "    def __init__(self,name,salary):\n",
    "        self.name = name\n",
    "        self.salary = salary\n",
    "    \n",
    "    def display_info(self):\n",
    "        return f\"{self.name} {self.salary}\"\n",
    "\n",
    "class Manager(Employee):\n",
    "    def __init__ (self,name,salary,department):\n",
    "        super().__init__(name,salary)\n",
    "        self.department = department\n",
    "\n",
    "    def display_info(self):\n",
    "        employee_details = super().display_info()\n",
    "        return f\"{employee_details} and department: {self.department}\"\n",
    "\n",
    "class Developer(Employee):\n",
    "    def __init__(self,name,salary,programming_language):\n",
    "        super().__init__(name,salary)\n",
    "        self.programming_language = programming_language\n",
    "\n",
    "    def display_info(self):\n",
    "        employee_details = super().display_info()\n",
    "        return f\"{employee_details} and programming_language: {self.programming_language}\"\n",
    "    \n",
    "\n",
    "manager = Manager(\"Avani\",200000,\"IT\")\n",
    "print(manager.display_info())\n",
    "\n",
    "developer = Developer(\"Avani\",100000,\"Python\")\n",
    "print(developer.display_info())\n"
   ]
  },
  {
   "cell_type": "markdown",
   "metadata": {},
   "source": [
    "8. Design a base class called \"Shape\" with attributes like \"colour\" and \"border_width.\"\n",
    "Create derived classes, \"Rectangle\" and \"Circle,\" that inherit from \"Shape\" and add\n",
    "specific attributes like \"length\" and \"width\" for the \"Rectangle\" class and \"radius\" for\n",
    "the \"Circle\" class."
   ]
  },
  {
   "cell_type": "code",
   "execution_count": 31,
   "metadata": {},
   "outputs": [
    {
     "name": "stdout",
     "output_type": "stream",
     "text": [
      "Colour: Red, Border_width: 22 and length: 23 and width: 24\n",
      "Colour: White, Border_width: 23, radius= 28\n"
     ]
    }
   ],
   "source": [
    "class Shape:\n",
    "    def __init__(self,colour,border_width):\n",
    "        self.colour = colour\n",
    "        self.border_width = border_width\n",
    "    \n",
    "    def display_info(self):\n",
    "        return f\"Colour: {self.colour}, Border_width: {self.border_width}\"\n",
    "    \n",
    "class Rectange(Shape):\n",
    "    def __init__(self,colour,border_width,length,width):\n",
    "        super().__init__(colour,border_width)\n",
    "        self.length = length\n",
    "        self.width = width\n",
    "\n",
    "    def display_info(self):\n",
    "        shape = super().display_info()\n",
    "        return f\"{shape} and length: {self.length} and width: {self.width}\"\n",
    "        \n",
    "class Circle(Shape):\n",
    "    def __init__(self,colour,border_width,radius):\n",
    "        super().__init__(colour,border_width)\n",
    "        self.radius = radius\n",
    "    \n",
    "    def display_info(self):\n",
    "        shape = super().display_info()\n",
    "        return f\"{shape}, radius= {self.radius}\"\n",
    "    \n",
    "\n",
    "rectange = Rectange('Red',22,23,24)\n",
    "print(rectange.display_info())\n",
    "\n",
    "circle = Circle('White',23,28)\n",
    "print(circle.display_info())"
   ]
  },
  {
   "cell_type": "markdown",
   "metadata": {},
   "source": [
    "9. Create a base class called \"Device\" with attributes like \"brand\" and \"model.\" Derive\n",
    "two classes, \"Phone\" and \"Tablet,\" from \"Device.\" Add specific attributes like\n",
    "\"screen_size\" for the \"Phone\" class and \"battery_capacity\" for the \"Tablet\" class."
   ]
  },
  {
   "cell_type": "code",
   "execution_count": 32,
   "metadata": {},
   "outputs": [
    {
     "name": "stdout",
     "output_type": "stream",
     "text": [
      "Brand: Motorola, Model: G20 and screen size: 5'5 inch\n",
      "Brand: Apple, Model: XYZ and battery_capacity: 10 inch\n"
     ]
    }
   ],
   "source": [
    "class Device:\n",
    "    def __init__(self,brand,model):\n",
    "        self.brand = brand\n",
    "        self.model = model\n",
    "\n",
    "    def display_info(self):\n",
    "        return f\"Brand: {self.brand}, Model: {self.model}\"\n",
    "    \n",
    "\n",
    "class Phone(Device):\n",
    "    def __init__(self,brand,model,screen_size):\n",
    "        super().__init__(brand,model)\n",
    "        self.screen_size = screen_size\n",
    "\n",
    "    def display_info(self):\n",
    "        device = super().display_info()\n",
    "        return f\"{device} and screen size: {self.screen_size}\"\n",
    "\n",
    "class Tablet(Device):\n",
    "    def __init__(self,brand,model,battery_capacity):\n",
    "        super().__init__(brand,model)\n",
    "        self.battery_capacity = battery_capacity\n",
    "\n",
    "    def display_info(self):\n",
    "        device = super().display_info()\n",
    "        return f\"{device} and battery_capacity: {self.battery_capacity}\"\n",
    "    \n",
    "phone = Phone(\"Motorola\",\"G20\",\"5'5 inch\")\n",
    "print(phone.display_info())\n",
    "\n",
    "tablet = Tablet(\"Apple\",\"XYZ\",\"10 inch\")\n",
    "print(tablet.display_info())"
   ]
  },
  {
   "cell_type": "markdown",
   "metadata": {},
   "source": [
    "10. Create a base class called \"BankAccount\" with attributes like \"account_number\" and\n",
    "\"balance.\" Derive two classes, \"SavingsAccount\" and \"CheckingAccount,\" from\n",
    "\"BankAccount.\" Add specific methods like \"calculate_interest\" for the\n",
    "\"SavingsAccount\" class and \"deduct_fees\" for the \"CheckingAccount\" class."
   ]
  },
  {
   "cell_type": "code",
   "execution_count": 43,
   "metadata": {},
   "outputs": [
    {
     "name": "stdout",
     "output_type": "stream",
     "text": [
      "Account Number: SA123, Balance: $5000\n",
      "Interest Calculated. New Balance: $5175.0\n",
      "Account Number: CA456, Balance: $7000\n",
      "Fees Deducted. New Balance: $6995.5\n"
     ]
    }
   ],
   "source": [
    "class BankAccount:\n",
    "    def __init__(self, account_number, balance):\n",
    "        self.account_number = account_number\n",
    "        self.balance = balance\n",
    "\n",
    "    def display_info(self):\n",
    "        return f\"Account Number: {self.account_number}, Balance: ${self.balance}\"\n",
    "\n",
    "class SavingsAccount(BankAccount):\n",
    "    def __init__(self, account_number, balance, interest_rate):\n",
    "        super().__init__(account_number, balance)\n",
    "        self.interest_rate = interest_rate\n",
    "\n",
    "    def calculate_interest(self):\n",
    "        interest = self.balance * (self.interest_rate / 100)\n",
    "        self.balance += interest\n",
    "        return f\"Interest Calculated. New Balance: ${self.balance}\"\n",
    "\n",
    "class CheckingAccount(BankAccount):\n",
    "    def __init__(self, account_number, balance, fee_per_transaction):\n",
    "        super().__init__(account_number, balance)\n",
    "        self.fee_per_transaction = fee_per_transaction\n",
    "\n",
    "    def deduct_fees(self, num_transactions):\n",
    "        total_fees = self.fee_per_transaction * num_transactions\n",
    "        self.balance -= total_fees\n",
    "        return f\"Fees Deducted. New Balance: ${self.balance}\"\n",
    "\n",
    "savings_account = SavingsAccount(\"SA123\", 5000, 3.5)\n",
    "checking_account = CheckingAccount(\"CA456\", 7000, 1.5)\n",
    "\n",
    "print(savings_account.display_info())\n",
    "print(savings_account.calculate_interest())\n",
    "\n",
    "print(checking_account.display_info())\n",
    "print(checking_account.deduct_fees(3))"
   ]
  },
  {
   "cell_type": "code",
   "execution_count": null,
   "metadata": {},
   "outputs": [],
   "source": []
  }
 ],
 "metadata": {
  "kernelspec": {
   "display_name": "Python 3",
   "language": "python",
   "name": "python3"
  },
  "language_info": {
   "codemirror_mode": {
    "name": "ipython",
    "version": 3
   },
   "file_extension": ".py",
   "mimetype": "text/x-python",
   "name": "python",
   "nbconvert_exporter": "python",
   "pygments_lexer": "ipython3",
   "version": "3.10.13"
  }
 },
 "nbformat": 4,
 "nbformat_minor": 2
}
