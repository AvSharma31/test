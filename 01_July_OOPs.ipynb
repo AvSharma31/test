{
 "cells": [
  {
   "cell_type": "markdown",
   "metadata": {},
   "source": [
    "1. What is the primary goal of Object-Oriented Programming (OOP)?\n",
    "\n",
    "The primary goal of Object-Oriented Programming (OOP) is to design and organize code in a way that models real-world entities and their interactions. OOP is based on the concept of \"objects,\" which are instances of classes representing entities with characteristics (attributes) and behaviors (methods). The main goals of OOP include:\n",
    "\n",
    "Encapsulation: Bundling data (attributes) and the methods (functions) that operate on the data into a single unit, called a class. This helps in hiding the internal details of how an object works, exposing only what is necessary.\n",
    "\n",
    "Inheritance: Allowing a class (subclass or derived class) to inherit properties and behaviors from another class (superclass or base class). This promotes code reuse and establishes a hierarchy of classes.\n",
    "\n",
    "Polymorphism: Allowing objects of different classes to be treated as objects of a common base class. Polymorphism enables flexibility by allowing the same method or operation to behave differently based on the context of the object.\n",
    "\n",
    "Abstraction: Simplifying complex systems by modeling classes based on essential properties and behaviors. Abstraction hides the unnecessary details, focusing on what is relevant for the problem at hand."
   ]
  },
  {
   "cell_type": "markdown",
   "metadata": {},
   "source": [
    "2. What is an object in Python?\n",
    "\n",
    "An object is a fundamental concept and a runtime instance of a class. Each object has a type that defines its behavior and attributes. When you create an object, you are creating a specific instance of that class.\n",
    "\n",
    "Objects have attributes, which are variables that store data. These attributes are defined within the class and represent the characteristics of the object.\n",
    "\n",
    "For Example:"
   ]
  },
  {
   "cell_type": "code",
   "execution_count": 62,
   "metadata": {},
   "outputs": [],
   "source": [
    "class Car:\n",
    "    def __init__(self, make, model):\n",
    "        self.make = make\n",
    "        self.model = model\n",
    "\n",
    "    def display_info(self):\n",
    "        print(f\"{self.make} {self.model}\")\n",
    "\n",
    "car1 = Car(\"Toyota\", \"Camry\")\n",
    "car2 = Car(\"Honda\", \"Accord\")\n",
    "\n",
    "#car1 and car2 is object"
   ]
  },
  {
   "cell_type": "markdown",
   "metadata": {},
   "source": [
    "3. What is a class in Python?\n",
    "\n",
    "A class is a blueprint or a template for creating objects. It is a way to bundle data and functionality together, encapsulating them into a single unit. Classes define the attributes and methods that objects created from the class will have.\n",
    "\n",
    "For example:"
   ]
  },
  {
   "cell_type": "code",
   "execution_count": 63,
   "metadata": {},
   "outputs": [],
   "source": [
    "class Car:\n",
    "    def __init__(self, make, model):\n",
    "        self.make = make\n",
    "        self.model = model\n",
    "\n",
    "    def display_info(self):\n",
    "        print(f\"{self.make} {self.model}\")\n",
    "\n",
    "car1 = Car(\"Toyota\", \"Camry\")\n",
    "car2 = Car(\"Honda\", \"Accord\")"
   ]
  },
  {
   "cell_type": "markdown",
   "metadata": {},
   "source": [
    "4. What are attributes and methods in a class?\n",
    "\n",
    "Attributes and methods are the building blocks that define the structure and behavior of objects created from that class.\n",
    "\n",
    "Methods are functions that operate on the data (attributes) of an object. They represent the behaviors associated with the object.\n",
    "\n",
    "For example:"
   ]
  },
  {
   "cell_type": "code",
   "execution_count": 65,
   "metadata": {},
   "outputs": [],
   "source": [
    "class Car:\n",
    "    def __init__(self, make, model):\n",
    "        self.make = make  # attribute\n",
    "        self.model = model  # attribute\n",
    "\n",
    "    def display_info(self):\n",
    "        return f\"{self.make} {self.model}\"  # method"
   ]
  },
  {
   "cell_type": "markdown",
   "metadata": {},
   "source": [
    "5. What is the difference between class variables and instance variables in Python?\n",
    "\n",
    "Class variables are variables that are shared among all objects of a class. They are defined at the class level and are the same for every instance of that class. They are declared outside any method inside the class. They can be accessed using the class name or an instance of class.\n",
    "\n",
    "Instance variables are specific to each instance of a class. They represent the unique characteristics or properties of each object created from the class. Instance variables are defined within the constructor method (__init__) using the self keyword."
   ]
  },
  {
   "cell_type": "code",
   "execution_count": 67,
   "metadata": {},
   "outputs": [
    {
     "name": "stdout",
     "output_type": "stream",
     "text": [
      "Toyota\n",
      "2\n"
     ]
    }
   ],
   "source": [
    "class Car:\n",
    "    # Class variable\n",
    "    total_cars = 0\n",
    "\n",
    "    def __init__(self, make, model):\n",
    "        # Instance variables\n",
    "        self.make = make\n",
    "        self.model = model\n",
    "\n",
    "        # Updating the class variable\n",
    "        Car.total_cars += 1\n",
    "\n",
    "# Creating instances of the Car class\n",
    "car1 = Car(\"Toyota\", \"Camry\")\n",
    "car2 = Car(\"Honda\", \"Accord\")\n",
    "\n",
    "# Accessing instance variables\n",
    "print(car1.make)  # Output: Toyota\n",
    "\n",
    "# Accessing class variables\n",
    "print(Car.total_cars)  "
   ]
  },
  {
   "cell_type": "markdown",
   "metadata": {},
   "source": [
    "6. What is the purpose of the self parameter in Python class methods?\n",
    "\n",
    "The self parameter refers to the instance of the class that the method is associated with. The purpose of self is to allow methods to access and modify attributes of the instance on which the method is called."
   ]
  },
  {
   "cell_type": "markdown",
   "metadata": {},
   "source": [
    "7. For a library management system, you have to design the \"Book\" class with OOP\n",
    "principles in mind. The “Book” class will have following attributes:\n",
    "a. title: Represents the title of the book.\n",
    "b. author: Represents the author(s) of the book.\n",
    "c. isbn: Represents the ISBN (International Standard Book Number) of the book.\n",
    "d. publication_year: Represents the year of publication of the book.\n",
    "e. available_copies: Represents the number of copies available for checkout.\n",
    "The class will also include the following methods:\n",
    "a. check_out(self): Decrements the available copies by one if there are copies\n",
    "available for checkout.\n",
    "b. return_book(self): Increments the available copies by one when a book is\n",
    "returned.\n",
    "c. display_book_info(self): Displays the information about the book, including its\n",
    "attributes and the number of available copies."
   ]
  },
  {
   "cell_type": "code",
   "execution_count": 32,
   "metadata": {},
   "outputs": [],
   "source": [
    "class Book:\n",
    "    def __init__(self,title,author,isbn,publication_year,available_copies):\n",
    "        self.title = title\n",
    "        self.author = author\n",
    "        self.isbn = isbn\n",
    "        self.publication_year = publication_year\n",
    "        self.available_copies = available_copies\n",
    "    \n",
    "    def check_out(self):\n",
    "        if self.available_copies>0:\n",
    "            self.available_copies-=1\n",
    "    \n",
    "    def return_book(self):\n",
    "        self.available_copies+=1\n",
    "    \n",
    "    def display_book_info(self):\n",
    "        print(f\"Book Name:{self.title}, book author is: {self.author}, International Standard Book Number: {self.isbn},book publication year is :{self.publication_year} and available copies are: {self.available_copies} \")"
   ]
  },
  {
   "cell_type": "code",
   "execution_count": 35,
   "metadata": {},
   "outputs": [
    {
     "name": "stdout",
     "output_type": "stream",
     "text": [
      "Book Name:Harry Potter, book author is: J.K. Rowling, International Standard Book Number: 1,book publication year is :2000 and available copies are: 20 \n",
      "Book Name:Harry Potter, book author is: J.K. Rowling, International Standard Book Number: 1,book publication year is :2000 and available copies are: 19 \n"
     ]
    }
   ],
   "source": [
    "book = Book(\"Harry Potter\",\"J.K. Rowling\",\"1\",2000,20)\n",
    "book.display_book_info()\n",
    "book.check_out()\n",
    "book.return_book()\n",
    "book.check_out()\n",
    "book.display_book_info()"
   ]
  },
  {
   "cell_type": "markdown",
   "metadata": {},
   "source": [
    "\n",
    "8. For a ticket booking system, you have to design the \"Ticket\" class with OOP\n",
    "principles in mind. The “Ticket” class should have the following attributes:\n",
    "a. ticket_id: Represents the unique identifier for the ticket.\n",
    "b. event_name: Represents the name of the event.\n",
    "c. event_date: Represents the date of the event.\n",
    "d. venue: Represents the venue of the event.\n",
    "e. seat_number: Represents the seat number associated with the ticket.\n",
    "f. price: Represents the price of the ticket.\n",
    "g. is_reserved: Represents the reservation status of the ticket.\n",
    "The class also includes the following methods:\n",
    "a. reserve_ticket(self): Marks the ticket as reserved if it is not already reserved.\n",
    "b. cancel_reservation(self): Cancels the reservation of the ticket if it is already\n",
    "reserved.\n",
    "c. display_ticket_info(self): Displays the information about the ticket, including its\n",
    "attributes and reservation status.\n"
   ]
  },
  {
   "cell_type": "code",
   "execution_count": 40,
   "metadata": {},
   "outputs": [],
   "source": [
    "class Ticket:\n",
    "    \n",
    "    def __init__(self,ticket_id,event_name,event_date,venue,seat_number,price):\n",
    "        self.ticket_id = ticket_id\n",
    "        self.event_name = event_name\n",
    "        self.event_date = event_date\n",
    "        self.venue = venue\n",
    "        self.seat_number = seat_number\n",
    "        self.price = price\n",
    "        self.is_reserved = False\n",
    "\n",
    "    def reserve_ticket(self):\n",
    "        if not self.is_reserved:\n",
    "            self.is_reserved = True\n",
    "            print(\"Seat reserved successfully\")\n",
    "        else:\n",
    "            print(\"Seat not reserved\")\n",
    "\n",
    "    def cancel_reservation(self):\n",
    "        if self.is_reserved:\n",
    "            self.is_reserved = False\n",
    "            print(\"Seat cancelled successfully\")\n",
    "        else:\n",
    "            print(\"Seat cancellation failed\")\n",
    "    \n",
    "    def display_ticket(self):\n",
    "        print(f\"Ticket id: {self.ticket_id}, event name is :{self.event_name}, event date is :{self.event_date} , venue {self.venue} , seat number is : {self.seat_number}, price is : {self.price} , is reserved: {self.is_reserved}\")\n"
   ]
  },
  {
   "cell_type": "code",
   "execution_count": 42,
   "metadata": {},
   "outputs": [
    {
     "name": "stdout",
     "output_type": "stream",
     "text": [
      "Seat reserved successfully\n",
      "Seat cancelled successfully\n",
      "Ticket id: 1, event name is :New Event, event date is :20-01-2024 , venue Pune , seat number is : 42, price is : 3000 , is reserved: False\n",
      "Seat reserved successfully\n",
      "Ticket id: 1, event name is :New Event, event date is :20-01-2024 , venue Pune , seat number is : 42, price is : 3000 , is reserved: True\n"
     ]
    }
   ],
   "source": [
    "ticket1 = Ticket(1,\"New Event\",\"20-01-2024\",\"Pune\",42,3000)\n",
    "ticket1.reserve_ticket()\n",
    "ticket1.cancel_reservation()\n",
    "ticket1.display_ticket()\n",
    "\n",
    "ticket1.reserve_ticket()\n",
    "ticket1.display_ticket()"
   ]
  },
  {
   "cell_type": "markdown",
   "metadata": {},
   "source": [
    "9. You are creating a shopping cart for an e-commerce website. Using OOP to model\n",
    "the \"ShoppingCart\" functionality the class should contain following attributes and\n",
    "methods:\n",
    "a. items: Represents the list of items in the shopping cart.\n",
    "The class also includes the following methods:\n",
    "\n",
    "a. add_item(self, item): Adds an item to the shopping cart by appending it to the\n",
    "list of items.\n",
    "b. remove_item(self, item): Removes an item from the shopping cart if it exists in\n",
    "the list.\n",
    "c. view_cart(self): Displays the items currently present in the shopping cart.\n",
    "d. clear_cart(self): Clears all items from the shopping cart by reassigning an\n",
    "empty list to the items attribute.\n"
   ]
  },
  {
   "cell_type": "code",
   "execution_count": 50,
   "metadata": {},
   "outputs": [],
   "source": [
    "class ShoppingCart:\n",
    "    def __init__(self):\n",
    "        self.items = []\n",
    "\n",
    "    def add_item(self,item):\n",
    "        self.items.append(item)\n",
    "        print(\"Item added successfully\")\n",
    "    \n",
    "    def remove_item(self,item):\n",
    "        if item in self.items:\n",
    "            self.items.remove(item)\n",
    "            print(\"Item removed successfully\")\n",
    "        else:\n",
    "            print(\"Item not present in cart\")\n",
    "    \n",
    "    def view_cart(self):\n",
    "        print(f\"Items are: {self.items}\")\n",
    "\n",
    "    def clear_cart(self):\n",
    "        self.items=[]\n",
    "        print(\"Shopping Cart Cleared.\")\n",
    "    "
   ]
  },
  {
   "cell_type": "code",
   "execution_count": 49,
   "metadata": {},
   "outputs": [
    {
     "name": "stdout",
     "output_type": "stream",
     "text": [
      "Items are: []\n",
      "Item added successfully\n",
      "Item added successfully\n",
      "Items are: ['Product 1', 'Product 2']\n",
      "Item removed successfully\n",
      "Items are: ['Product 2']\n",
      "Shopping Cart Cleared.\n",
      "Items are: []\n"
     ]
    }
   ],
   "source": [
    "cart=ShoppingCart()\n",
    "cart.view_cart()\n",
    "\n",
    "cart.add_item(\"Product 1\")\n",
    "cart.add_item(\"Product 2\")\n",
    "cart.view_cart()\n",
    "\n",
    "cart.remove_item(\"Product 1\")\n",
    "cart.view_cart()\n",
    "\n",
    "cart.clear_cart()\n",
    "cart.view_cart()"
   ]
  },
  {
   "cell_type": "markdown",
   "metadata": {},
   "source": [
    "\n",
    "10. Imagine a school management system. You have to design the \"Student\" class using\n",
    "OOP concepts.The “Student” class has the following attributes:\n",
    "a. name: Represents the name of the student.\n",
    "b. age: Represents the age of the student.\n",
    "c. grade: Represents the grade or class of the student.\n",
    "d. student_id: Represents the unique identifier for the student.\n",
    "e. attendance: Represents the attendance record of the student.\n",
    "The class should also include the following methods:\n",
    "a. update_attendance(self, date, status): Updates the attendance record of the\n",
    "student for a given date with the provided status (e.g., present or absent).\n",
    "b. get_attendance(self): Returns the attendance record of the student.\n",
    "c. get_average_attendance(self): Calculates and returns the average\n",
    "attendance percentage of the student based on their attendance record."
   ]
  },
  {
   "cell_type": "code",
   "execution_count": 58,
   "metadata": {},
   "outputs": [],
   "source": [
    "class Student:\n",
    "    def __init__(self,name,age,grade,student_id):\n",
    "        self.name = name\n",
    "        self.age = age\n",
    "        self.grade = grade\n",
    "        self.student_id = student_id\n",
    "        self.attendance = {}\n",
    "\n",
    "    def update_attendance(self,date,status):\n",
    "        self.attendance[date]=status\n",
    "        print(\"Attendance updated successfully\")\n",
    "    \n",
    "    def get_attendance(self):\n",
    "        print(f\"Attendance of {self.name} is {self.attendance}\")\n",
    "    \n",
    "    def get_average_attendance(self):\n",
    "        total_days = len(self.attendance)\n",
    "        present_days = 0\n",
    "        for i in self.attendance.values():\n",
    "            if i.lower()==\"present\":\n",
    "                present_days+=1\n",
    "        return (present_days/total_days)*100\n"
   ]
  },
  {
   "cell_type": "code",
   "execution_count": 60,
   "metadata": {},
   "outputs": [
    {
     "name": "stdout",
     "output_type": "stream",
     "text": [
      "Attendance updated successfully\n",
      "Attendance updated successfully\n",
      "Attendance updated successfully\n",
      "Attendance of Avani is {'2024-03-01': 'Present', '2024-03-02': 'Absent', '2024-03-03': 'Present'}\n",
      "Average Attendance: 66.66666666666666\n"
     ]
    }
   ],
   "source": [
    "student1 = Student(\"Avani\",20,\"A\",\"4257\")\n",
    "student1.update_attendance(\"2024-03-01\", \"Present\")\n",
    "student1.update_attendance(\"2024-03-02\", \"Absent\")\n",
    "student1.update_attendance(\"2024-03-03\", \"Present\")\n",
    "\n",
    "student1.get_attendance()\n",
    "print(\"Average Attendance:\", student1.get_average_attendance())"
   ]
  }
 ],
 "metadata": {
  "kernelspec": {
   "display_name": "base",
   "language": "python",
   "name": "python3"
  },
  "language_info": {
   "codemirror_mode": {
    "name": "ipython",
    "version": 3
   },
   "file_extension": ".py",
   "mimetype": "text/x-python",
   "name": "python",
   "nbconvert_exporter": "python",
   "pygments_lexer": "ipython3",
   "version": "3.10.9"
  }
 },
 "nbformat": 4,
 "nbformat_minor": 2
}
