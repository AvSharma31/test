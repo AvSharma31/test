{
 "cells": [
  {
   "cell_type": "markdown",
   "id": "f237d4f2-a37a-44de-83d7-0258e06bf977",
   "metadata": {},
   "source": [
    "1. What does an empty dictionary's code look like?"
   ]
  },
  {
   "cell_type": "markdown",
   "id": "5be78f91-fddd-4577-9375-757d03faffde",
   "metadata": {},
   "source": [
    "Ans. d = {}"
   ]
  },
  {
   "cell_type": "code",
   "execution_count": 5,
   "id": "28185788-2303-4a2c-843d-83e8f74a6d79",
   "metadata": {},
   "outputs": [],
   "source": [
    "d = {}"
   ]
  },
  {
   "cell_type": "markdown",
   "id": "8d4f8558-a6a3-4be0-acdd-5fbf8b2512a1",
   "metadata": {},
   "source": [
    "2. What is the value of a dictionary value with the key 'foo' and the value 42?"
   ]
  },
  {
   "cell_type": "code",
   "execution_count": 6,
   "id": "5ca3b32a-87ff-4753-8673-8c1b0c63df65",
   "metadata": {},
   "outputs": [
    {
     "name": "stdout",
     "output_type": "stream",
     "text": [
      "42\n"
     ]
    }
   ],
   "source": [
    "d = {'foo':42}\n",
    "print(d['foo'])"
   ]
  },
  {
   "cell_type": "markdown",
   "id": "ccf020fe-bc18-4297-8177-7ac492dd1c75",
   "metadata": {},
   "source": [
    "3. What is the most significant distinction between a dictionary and a list?"
   ]
  },
  {
   "cell_type": "markdown",
   "id": "d75aad66-4d76-4b8d-9822-a82d52848958",
   "metadata": {},
   "source": [
    "Ans. dictionary is in the form of key value pair and list can be list of values."
   ]
  },
  {
   "cell_type": "markdown",
   "id": "d84d05ea-dcf5-4386-b000-1031ebbbdd15",
   "metadata": {},
   "source": [
    "4. What happens if you try to access spam['foo'] if spam is {'bar': 100}?"
   ]
  },
  {
   "cell_type": "markdown",
   "id": "6e24e615-7947-433f-9c0f-0286b818401d",
   "metadata": {},
   "source": [
    "Ans. spam = {'bar':100}\n",
    "spam['foo'] will throw an error as spam inclues only bar as the key."
   ]
  },
  {
   "cell_type": "markdown",
   "id": "5ed13c5a-6c63-46b1-b402-7d2f96401e90",
   "metadata": {},
   "source": [
    "5. If a dictionary is stored in spam, what is the difference between the expressions 'cat' in spam and 'cat' in spam.keys()?"
   ]
  },
  {
   "cell_type": "markdown",
   "id": "6788cbc6-da12-4b46-abc4-b76b685847af",
   "metadata": {},
   "source": [
    "Ans. spam = {'cat':100,'bar':200}\n",
    "print(spam['cat'])\n",
    "spam.keys()\n",
    "expression 'cat' in spam will return the value present for the key 'cat' and spam.keys() will return all the keys present in spam dict"
   ]
  },
  {
   "cell_type": "markdown",
   "id": "afd66438-2c52-4d2b-b6bd-67efa2d148d0",
   "metadata": {},
   "source": [
    "6. If a dictionary is stored in spam, what is the difference between the expressions 'cat' in spam and 'cat' in spam.values()?"
   ]
  },
  {
   "cell_type": "markdown",
   "id": "07e315e8-3939-4cdc-b9db-c1177677fb28",
   "metadata": {},
   "source": [
    "Ans. spam = {'cat':100,'bar':200}\n",
    "print(spam['cat'])\n",
    "spam.values()\n",
    "expression 'cat' in spam will return the value present for the key 'cat' and spam.values() will return all the values present in spam dict"
   ]
  },
  {
   "cell_type": "raw",
   "id": "cf0068f4-ec50-4417-a1b5-a40d8c46f780",
   "metadata": {},
   "source": [
    "7. What is a shortcut for the following code?\n",
    "if 'color' not in spam:\n",
    "spam['color'] = 'black'"
   ]
  },
  {
   "cell_type": "code",
   "execution_count": 4,
   "id": "032e270b-0b5d-493c-bc3f-c847efd5932d",
   "metadata": {},
   "outputs": [
    {
     "data": {
      "text/plain": [
       "{'cat': 100, 'bar': 200, 'color': 'black'}"
      ]
     },
     "execution_count": 4,
     "metadata": {},
     "output_type": "execute_result"
    }
   ],
   "source": [
    "spam = {'cat':100,'bar':200}\n",
    "\n",
    "spam.setdefault('color','black')\n",
    "spam"
   ]
  },
  {
   "cell_type": "markdown",
   "id": "d7d64b79-a124-4702-a0d4-bf4174f31c1f",
   "metadata": {},
   "source": [
    "8. How do you \"pretty print\" dictionary values using which module and function?"
   ]
  },
  {
   "cell_type": "code",
   "execution_count": 9,
   "id": "63a9e6a5-1fb7-4668-9c3b-eb669e79d55c",
   "metadata": {},
   "outputs": [
    {
     "name": "stdout",
     "output_type": "stream",
     "text": [
      "{'bar': 200, 'cat': 100, 'color': 'black'}\n"
     ]
    }
   ],
   "source": [
    "import pprint\n",
    "pprint.pprint(spam)"
   ]
  },
  {
   "cell_type": "code",
   "execution_count": null,
   "id": "03457f95-f216-443b-946f-ad222e2e0ff2",
   "metadata": {},
   "outputs": [],
   "source": []
  }
 ],
 "metadata": {
  "kernelspec": {
   "display_name": "Python 3 (ipykernel)",
   "language": "python",
   "name": "python3"
  },
  "language_info": {
   "codemirror_mode": {
    "name": "ipython",
    "version": 3
   },
   "file_extension": ".py",
   "mimetype": "text/x-python",
   "name": "python",
   "nbconvert_exporter": "python",
   "pygments_lexer": "ipython3",
   "version": "3.10.6"
  }
 },
 "nbformat": 4,
 "nbformat_minor": 5
}
